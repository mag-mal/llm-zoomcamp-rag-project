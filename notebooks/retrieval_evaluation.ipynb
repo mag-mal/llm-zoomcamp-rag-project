{
 "cells": [
  {
   "cell_type": "markdown",
   "id": "2cdfb9d0",
   "metadata": {},
   "source": [
    "This notebook generates a ground truth dataset of user questions for an **Indoor Plant Knowledge Assistant**.  \n",
    "Using plant records as input, it creates five relevant, self-contained questions per plant (skipping missing data), then flattens results into a pandas DataFrame of `(id, question)` pairs for training or evaluation."
   ]
  },
  {
   "cell_type": "code",
   "execution_count": 4,
   "id": "cc645d21",
   "metadata": {},
   "outputs": [],
   "source": [
    "from dotenv import load_dotenv\n",
    "import json\n",
    "import openai\n",
    "from openai import OpenAI\n",
    "import os\n",
    "import pandas as pd\n",
    "from tqdm.auto import tqdm"
   ]
  },
  {
   "cell_type": "markdown",
   "id": "ae8abc21",
   "metadata": {},
   "source": [
    "## Load openaikey and dataset"
   ]
  },
  {
   "cell_type": "code",
   "execution_count": 5,
   "id": "a5d3c433",
   "metadata": {},
   "outputs": [],
   "source": [
    "# Load the environment variables from the .env file\n",
    "load_dotenv()\n",
    "\n",
    "# Retrieve the OpenAI API key\n",
    "api_key = os.getenv('OPENAI_API_KEY')\n",
    "\n",
    "# Use it (e.g., in an OpenAI API call)\n",
    "\n",
    "openai.api_key = api_key\n",
    "client = OpenAI()\n"
   ]
  },
  {
   "cell_type": "code",
   "execution_count": 6,
   "id": "0b134b04",
   "metadata": {},
   "outputs": [],
   "source": [
    "df = pd.read_csv('../data/plants_data.csv')\n",
    "documents = df.to_dict(orient='records')"
   ]
  },
  {
   "cell_type": "code",
   "execution_count": 15,
   "id": "d2bc2097",
   "metadata": {},
   "outputs": [
    {
     "data": {
      "text/plain": [
       "[{'id': 0,\n",
       "  'name': 'Adelonema wallisii',\n",
       "  'summary': 'Adelonema wallisii (synonym Homalomena wallisii) is a species of aroid plant (family Araceae) native to Venezuela, Colombia, and Panama.\\n\\n',\n",
       "  'cultivation': 'No data available',\n",
       "  'toxicity': 'No data available'},\n",
       " {'id': 1,\n",
       "  'name': 'Adenium obesum',\n",
       "  'summary': 'Adenium obesum, more commonly known as a desert rose, is a poisonous species of flowering plant belonging to the tribe Nerieae of the subfamily Apocynoideae of the dogbane family, Apocynaceae. It is native to the Sahel regions south of the Sahara (from Mauritania and Senegal to Sudan), tropical and subtropical eastern and southern Africa, as well as the Arabian Peninsula. Other names for the flower include Sabi star, kudu, mock azalea, and impala lily. Adenium obesum is a popular houseplant and bonsai in temperate regions.\\n\\n',\n",
       "  'cultivation': \"Adenium obesum is a popular houseplant and bonsai in temperate regions. It requires a sunny location and a minimum indoor temperature in winter of 10 °C (50 °F). It thrives on a xeric watering regime as required by cacti. A. obesum is typically propagated by seed or stem cuttings.  The numerous hybrids are propagated mainly by grafting on to seedling rootstock.  While plants grown from seed are more likely to have the swollen caudex at a young age, with time many cutting-grown plants cannot be distinguished from seed-grown plants. Like many plants, Adenium obesum can also be propagated in vitro using plant tissue culture.\\nThis plant has gained the Royal Horticultural Society's Award of Garden Merit.\",\n",
       "  'toxicity': 'No data available'},\n",
       " {'id': 2,\n",
       "  'name': 'Adiantum aethiopicum',\n",
       "  'summary': 'Adiantum aethiopicum, also known as the common maidenhair fern, is a small fern of widespread distribution, occurring in Africa, Australia, Norfolk Island and New Zealand.\\nAdiantum aethiopicum was one of the many species first described by Linnaeus, in this case in his Systema naturae in 1759. The specific epithet aethiopicum in this sense was the Latin term for Africa south of the then known world, that is to say, more or less Africa south of Egypt.\\nIn South Africa the species occurs widely, though not generally profusely, mainly on moist sandstone cliffs in full shade. In the Cape Peninsula it is uncommon and grows mainly at the highest locally available altitudes, generally about 600–1,085 m (2,000–3,600 ft).\\nAdiantum aethiopicum grows in spreading clumps of fronds from 10 to 45 cm (4 to 18 in) in height. The rhizomes are wiry and branched. The fronds are horizontal and layered, or upright. They are divided into two or three and have many small wedge-shaped segments, each of which has sori along its margins underneath.\\nA common plant, often seen growing in moist areas. In Australia it is found near by creeks or in open forest, where it may form a large colony.\\nThe 1889 book \\'The Useful Native Plants of Australia’ records that \"This plant is said to possess medicinal properties, being\\nslightly astringent and emetic. It has been used in Europe in making \"Sirop de Capt\\'llaire,\" a demulcent drink, employed in\\ndiseases of the chest.\"',\n",
       "  'cultivation': 'Adiantum aethiopicum is a popular and well known ornamental plant. Propagation is from plant division or by spores. In cultivation the Maidenhair fern prefers a well-lit situation inside, but a shady place outdoors without draughts. It is suitable for terrariums and hanging baskets. It is fairly easy to grow, and will flourish in moist garden soil or potting mix.',\n",
       "  'toxicity': 'No data available'},\n",
       " {'id': 3,\n",
       "  'name': 'Adiantum capillus-veneris',\n",
       "  'summary': 'Adiantum capillus-veneris, the Southern maidenhair fern, black maidenhair fern, maidenhair fern, and venus hair fern,  is a species of ferns in the genus Adiantum and the family Pteridaceae with a subcosmopolitan worldwide distribution. It is cultivated as a popular garden fern and houseplant.',\n",
       "  'cultivation': 'Adiantum capillus-veneris  is cultivated and widely available around the world for planting in natural landscape native plants and traditional shade gardens, for outdoor container gardens, and commonly as an indoor houseplant.\\nAdiantum × mairisii is a winter hardy hybrid of Adiantum capillus-veneris with another species, which is likely to be one of Adiantum raddianum, Adiantum aethiopicum, or Adiantum cuneatum.\\nAs a houseplant, Adiantum capillus-veneris  requires filtered light and very humid conditions. It should be grown in soil rich in organic matter and should be watered frequently but lightly, to keep the roots damp but not drenched. The temperature should not fall below 12 °C (54 °F). It is propagated by dividing, making sure each clump has a section of rhizome.',\n",
       "  'toxicity': 'No data available'},\n",
       " {'id': 4,\n",
       "  'name': 'Adiantum formosum',\n",
       "  'summary': 'Adiantum formosum, known as the giant maidenhair or black stem maidenhair is a fern found in Australia and New Zealand. It was one of the many species authored by Scottish botanist Robert Brown, appearing in his 1810 work Prodromus Florae Novae Hollandiae et Insulae Van Diemen. Its species name is the Latin adjective formosus \"handsome\" or \"beautiful\".\\nAdiantum formosum is an attractive plant, with fronds up to 120 cm (48 in) high. The rhizome of this species is unusually deep, up to 60 cm (24 in) below into the earth. The stems are black and can reach 90 cm (36 in) in length, while the fronds or blades are triangular with rectangular segments. The last segment of the frond is irregular and asymmetrical, on a short stem. This maidenhair fern can grow to 2 metres (7 ft) tall. The smallest segments of the fronds are the pinnules, which are wedge-shaped, rectangular or trapezoid. They have 1–10 sori along the margins underneath.\\nAdiantum formosum is found in Queensland, and New South Wales, and into Victoria, where it is less common. It also occurs in New Zealand. It is often seen growing in moist areas or along streams usually on alluvial soils,  Adiantum formosum is generally found in rainforest or in nearby open eucalyptus forest, where it may form a large colony.\\nEasy to grow in cultivation, Adiantum formosum makes a good subject for container gardening. It appears to go dormant in cooler months and grow rapidly during the summer. A smaller, variegated form is commercially available and cultivated.\\n\\n',\n",
       "  'cultivation': 'No data available',\n",
       "  'toxicity': 'No data available'}]"
      ]
     },
     "execution_count": 15,
     "metadata": {},
     "output_type": "execute_result"
    }
   ],
   "source": [
    "documents[:5]"
   ]
  },
  {
   "cell_type": "markdown",
   "id": "725ab910",
   "metadata": {},
   "source": [
    "## Functions for generating ground truth dataset"
   ]
  },
  {
   "cell_type": "code",
   "execution_count": 8,
   "id": "683eb33c",
   "metadata": {},
   "outputs": [],
   "source": [
    "prompt_template = \"\"\"\n",
    "You are simulating a user interacting with our Indoor Plant Knowledge Assistant.\n",
    "Based on the given plant record, create 5 complete, specific questions the user might ask about the plant. Only create questions for categories that contain information different than \"No data available\".\n",
    "The questions must:\n",
    "\n",
    "* Be relevant to the details in the record.\n",
    "* Be clear and self-contained (not too short).\n",
    "* Use as few exact words from the record as possible while keeping the meaning.\n",
    "\n",
    "Plant record format:\n",
    "\n",
    "plant name: {name}\n",
    "summary: {summary}\n",
    "cultivation: {cultivation}\n",
    "toxicity: {toxicity}\n",
    "\n",
    "Provide the output in parsable JSON without using code blocks:\n",
    "\n",
    "{{\"questions\": [\"question1\", \"question2\", ..., \"question5\"]}}\n",
    "\"\"\".strip()"
   ]
  },
  {
   "cell_type": "code",
   "execution_count": 9,
   "id": "9c07ffb0",
   "metadata": {},
   "outputs": [],
   "source": [
    "prompt = prompt_template.format(**documents[7])"
   ]
  },
  {
   "cell_type": "code",
   "execution_count": 10,
   "id": "b9f58aaf",
   "metadata": {},
   "outputs": [
    {
     "name": "stdout",
     "output_type": "stream",
     "text": [
      "You are simulating a user interacting with our Indoor Plant Knowledge Assistant.\n",
      "Based on the given plant record, create 5 complete, specific questions the user might ask about the plant. Only create questions for categories that contain information different than \"No data available\".\n",
      "The questions must:\n",
      "\n",
      "* Be relevant to the details in the record.\n",
      "* Be clear and self-contained (not too short).\n",
      "* Use as few exact words from the record as possible while keeping the meaning.\n",
      "\n",
      "Plant record format:\n",
      "\n",
      "plant name: Aechmea fasciata\n",
      "summary: Aechmea fasciata is a species of flowering plant in the Bromeliaceae family. It is commonly called the silver vase or urn plant and is native to Brazil. This plant is probably the best known species in this genus, and it is often grown as a houseplant in temperate areas.\n",
      "\n",
      "\n",
      "cultivation: Aechmea fasciata requires partial shade to bright indirect light, and can handle brief periods of early morning sunlight, but should be shielded from the sun during the hottest parts of the day. Excessive sun exposure will cause burning on the foliage and dehydration of the plant; comparatively, reduced sunlight or darker conditions will prevent the plant's characteristic coloration and striping from developing fully, instead reverting to a deeper hue of pastel-green/teal-blue in an effort to photosynthesize effectively in the shade. Less bright indirect light will also limit flowering. As with all bromeliads and epiphytes, Aechmea fasciata requires adequate airflow around the entire plant to stay fresh. \n",
      "Over time, the plant’s roots will adhere to the surface provided, and the plant will form a small colony. The gardener simply keeps the \"cup\" or funnels filled with water. This method of cultivation is mostly executed successfully outdoors, rather than indoors, and is best-achieved in appropriate climates, especially maritime or seaside locations where the bromeliad may absorb moisture via fog and marine layer.\n",
      "toxicity: Aechmea fasciata, while not lethally poisonous, is listed in the FDA Poisonous Plant Database under the section \"skin-irritating substances in plants\". As bromeliads naturally produce the enzyme and alkaloid bromelain—commonly extracted from pineapples (also a bromeliad) as a supplement and digestive enzyme—, skin contact with the plant's sharp, serrated leaf margins is known to cause contact dermititis, phytophotodermatitis, and contact allergy; typical side effects are a mild, itchy sensation or redness. Therefore leather gloves are recommended when working with bromeliads, for example, arm-length or rose-pruning gloves.\n",
      "\n",
      "Provide the output in parsable JSON without using code blocks:\n",
      "\n",
      "{\"questions\": [\"question1\", \"question2\", ..., \"question5\"]}\n"
     ]
    }
   ],
   "source": [
    "print(prompt)"
   ]
  },
  {
   "cell_type": "code",
   "execution_count": 12,
   "id": "5b9903bf",
   "metadata": {},
   "outputs": [],
   "source": [
    "def generate_questions(doc):\n",
    "    \"\"\"\n",
    "    Generate user-like questions for a given plant record.\n",
    "\n",
    "    This function formats the provided plant data into a predefined prompt template,\n",
    "    sends it to a language model, and returns the generated questions as a JSON string.\n",
    "\n",
    "    Args:\n",
    "        doc (dict): A dictionary containing plant details with the keys:\n",
    "            - name (str): Plant's name.\n",
    "            - summary (str): Overview or description of the plant.\n",
    "            - cultivation (str): Cultivation and care instructions.\n",
    "            - toxicity (str): Information about plant toxicity.\n",
    "\n",
    "    Returns:\n",
    "        str: A JSON-formatted string containing the generated questions.\n",
    "    \"\"\"\n",
    "    prompt = prompt_template.format(**doc)\n",
    "\n",
    "    response = client.chat.completions.create(\n",
    "        model='gpt-4o-mini',\n",
    "        messages=[{\"role\": \"user\", \"content\": prompt}]\n",
    "    )\n",
    "\n",
    "    json_response = response.choices[0].message.content\n",
    "    return json_response"
   ]
  },
  {
   "cell_type": "code",
   "execution_count": 13,
   "id": "01ec9032",
   "metadata": {},
   "outputs": [],
   "source": [
    "questions = generate_questions(documents[7])"
   ]
  },
  {
   "cell_type": "code",
   "execution_count": 14,
   "id": "6625b185",
   "metadata": {},
   "outputs": [
    {
     "data": {
      "text/plain": [
       "'{\"questions\": [\"What kind of lighting conditions are ideal for growing Aechmea fasciata indoors?\", \"How can I ensure that my Aechmea fasciata maintains its vibrant coloration?\", \"What precautions should I take when handling the leaves of Aechmea fasciata to avoid skin irritation?\", \"What kind of environment is best for keeping Aechmea fasciata healthy outdoors?\", \"How does Aechmea fasciata manage to form a colony over time?\"]}'"
      ]
     },
     "execution_count": 14,
     "metadata": {},
     "output_type": "execute_result"
    }
   ],
   "source": [
    "questions"
   ]
  },
  {
   "cell_type": "markdown",
   "id": "2c63794c",
   "metadata": {},
   "source": [
    "## Generating questions for whole dataset"
   ]
  },
  {
   "cell_type": "code",
   "execution_count": 12,
   "id": "9d2917fe",
   "metadata": {},
   "outputs": [],
   "source": [
    "results = {}"
   ]
  },
  {
   "cell_type": "code",
   "execution_count": null,
   "id": "7fc3aa96",
   "metadata": {},
   "outputs": [
    {
     "data": {
      "application/vnd.jupyter.widget-view+json": {
       "model_id": "66acd510e92d4c338128cd408e1d1529",
       "version_major": 2,
       "version_minor": 0
      },
      "text/plain": [
       "  0%|          | 0/197 [00:00<?, ?it/s]"
      ]
     },
     "metadata": {},
     "output_type": "display_data"
    }
   ],
   "source": [
    "# Process each plant record\n",
    "for doc in tqdm(documents):\n",
    "\n",
    "    doc_id = doc['id']\n",
    "    if doc_id in results:  # Skip if already processed\n",
    "        continue\n",
    "\n",
    "    # Generate and parse questions\n",
    "    questions_raw = generate_questions(doc)\n",
    "    questions = json.loads(questions_raw)\n",
    "\n",
    "    # Store questions by plant ID\n",
    "    results[doc_id] = questions['questions']"
   ]
  },
  {
   "cell_type": "code",
   "execution_count": null,
   "id": "f9a36e26",
   "metadata": {},
   "outputs": [],
   "source": [
    "# convert dict to DataFrame\n",
    "final_results = []\n",
    "\n",
    "for doc_id, questions in results.items():\n",
    "    for q in questions:\n",
    "        final_results.append((doc_id, q))\n",
    "\n",
    "df_results = pd.DataFrame(final_results, columns=['id', 'question'])"
   ]
  },
  {
   "cell_type": "markdown",
   "id": "85e15d7a",
   "metadata": {},
   "source": [
    "## Save ground truth dataset to csv"
   ]
  },
  {
   "cell_type": "code",
   "execution_count": null,
   "id": "383f2113",
   "metadata": {},
   "outputs": [],
   "source": [
    "#save to csv\n",
    "df_results.to_csv('../data/ground-truth-retrieval.csv', index=False)"
   ]
  }
 ],
 "metadata": {
  "kernelspec": {
   "display_name": "Python 3",
   "language": "python",
   "name": "python3"
  },
  "language_info": {
   "codemirror_mode": {
    "name": "ipython",
    "version": 3
   },
   "file_extension": ".py",
   "mimetype": "text/x-python",
   "name": "python",
   "nbconvert_exporter": "python",
   "pygments_lexer": "ipython3",
   "version": "3.12.1"
  }
 },
 "nbformat": 4,
 "nbformat_minor": 5
}
