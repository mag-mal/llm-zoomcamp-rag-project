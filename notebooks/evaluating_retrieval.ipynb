{
 "cells": [
  {
   "cell_type": "code",
   "execution_count": 17,
   "id": "797003b2",
   "metadata": {},
   "outputs": [],
   "source": [
    "import minsearch\n",
    "import pandas as pd\n",
    "from tqdm.auto import tqdm"
   ]
  },
  {
   "cell_type": "markdown",
   "id": "c2eeac81",
   "metadata": {},
   "source": [
    "## Load datasets"
   ]
  },
  {
   "cell_type": "code",
   "execution_count": 18,
   "id": "f33a21d0",
   "metadata": {},
   "outputs": [],
   "source": [
    "plants_data = pd.read_csv(\"../data/plants_data.csv\")\n",
    "documents = plants_data.to_dict(orient='records')\n",
    "\n",
    "df_question = pd.read_csv(\"../data/ground-truth-retrieval-5q.csv\")\n",
    "ground_truth = df_question.to_dict(orient='records')"
   ]
  },
  {
   "cell_type": "code",
   "execution_count": 19,
   "id": "50307e17",
   "metadata": {},
   "outputs": [
    {
     "data": {
      "text/plain": [
       "[{'id': 0,\n",
       "  'name': 'Adelonema wallisii',\n",
       "  'summary': 'Adelonema wallisii (synonym Homalomena wallisii) is a species of aroid plant (family Araceae) native to Venezuela, Colombia, and Panama.\\n\\n',\n",
       "  'cultivation': 'No data available',\n",
       "  'toxicity': 'No data available'},\n",
       " {'id': 1,\n",
       "  'name': 'Adenium obesum',\n",
       "  'summary': 'Adenium obesum, more commonly known as a desert rose, is a poisonous species of flowering plant belonging to the tribe Nerieae of the subfamily Apocynoideae of the dogbane family, Apocynaceae. It is native to the Sahel regions south of the Sahara (from Mauritania and Senegal to Sudan), tropical and subtropical eastern and southern Africa, as well as the Arabian Peninsula. Other names for the flower include Sabi star, kudu, mock azalea, and impala lily. Adenium obesum is a popular houseplant and bonsai in temperate regions.\\n\\n',\n",
       "  'cultivation': \"Adenium obesum is a popular houseplant and bonsai in temperate regions. It requires a sunny location and a minimum indoor temperature in winter of 10 °C (50 °F). It thrives on a xeric watering regime as required by cacti. A. obesum is typically propagated by seed or stem cuttings.  The numerous hybrids are propagated mainly by grafting on to seedling rootstock.  While plants grown from seed are more likely to have the swollen caudex at a young age, with time many cutting-grown plants cannot be distinguished from seed-grown plants. Like many plants, Adenium obesum can also be propagated in vitro using plant tissue culture.\\nThis plant has gained the Royal Horticultural Society's Award of Garden Merit.\",\n",
       "  'toxicity': 'No data available'},\n",
       " {'id': 2,\n",
       "  'name': 'Adiantum aethiopicum',\n",
       "  'summary': 'Adiantum aethiopicum, also known as the common maidenhair fern, is a small fern of widespread distribution, occurring in Africa, Australia, Norfolk Island and New Zealand.\\nAdiantum aethiopicum was one of the many species first described by Linnaeus, in this case in his Systema naturae in 1759. The specific epithet aethiopicum in this sense was the Latin term for Africa south of the then known world, that is to say, more or less Africa south of Egypt.\\nIn South Africa the species occurs widely, though not generally profusely, mainly on moist sandstone cliffs in full shade. In the Cape Peninsula it is uncommon and grows mainly at the highest locally available altitudes, generally about 600–1,085 m (2,000–3,600 ft).\\nAdiantum aethiopicum grows in spreading clumps of fronds from 10 to 45 cm (4 to 18 in) in height. The rhizomes are wiry and branched. The fronds are horizontal and layered, or upright. They are divided into two or three and have many small wedge-shaped segments, each of which has sori along its margins underneath.\\nA common plant, often seen growing in moist areas. In Australia it is found near by creeks or in open forest, where it may form a large colony.\\nThe 1889 book \\'The Useful Native Plants of Australia’ records that \"This plant is said to possess medicinal properties, being\\nslightly astringent and emetic. It has been used in Europe in making \"Sirop de Capt\\'llaire,\" a demulcent drink, employed in\\ndiseases of the chest.\"',\n",
       "  'cultivation': 'Adiantum aethiopicum is a popular and well known ornamental plant. Propagation is from plant division or by spores. In cultivation the Maidenhair fern prefers a well-lit situation inside, but a shady place outdoors without draughts. It is suitable for terrariums and hanging baskets. It is fairly easy to grow, and will flourish in moist garden soil or potting mix.',\n",
       "  'toxicity': 'No data available'}]"
      ]
     },
     "execution_count": 19,
     "metadata": {},
     "output_type": "execute_result"
    }
   ],
   "source": [
    "documents[:3]"
   ]
  },
  {
   "cell_type": "code",
   "execution_count": 20,
   "id": "185eb865",
   "metadata": {},
   "outputs": [
    {
     "data": {
      "text/plain": [
       "[{'id': 0, 'question': 'Where is Adelonema wallisii originally found?'},\n",
       " {'id': 0, 'question': 'What family does the Adelonema wallisii belong to?'},\n",
       " {'id': 0,\n",
       "  'question': 'Can you tell me about the common names of Adelonema wallisii?'}]"
      ]
     },
     "execution_count": 20,
     "metadata": {},
     "output_type": "execute_result"
    }
   ],
   "source": [
    "ground_truth[:3]"
   ]
  },
  {
   "cell_type": "markdown",
   "id": "33663672",
   "metadata": {},
   "source": [
    "## Evaluation metrics"
   ]
  },
  {
   "cell_type": "code",
   "execution_count": 21,
   "id": "5fdadbd4",
   "metadata": {},
   "outputs": [],
   "source": [
    "def hit_rate(relevance_total):\n",
    "    \"\"\"\n",
    "    Calculate the Hit Rate for a set of ranked results.\n",
    "\n",
    "    The Hit Rate measures the proportion of queries for which at least one \n",
    "    relevant item is present in the returned results, regardless of its rank.\n",
    "\n",
    "    Args:\n",
    "        relevance_total (list of list of bool): \n",
    "            A list where each sublist corresponds to a single query's ranked \n",
    "            results. Each boolean in a sublist indicates whether the result at \n",
    "            that rank is relevant (True) or not (False).\n",
    "\n",
    "    Returns:\n",
    "        float: Hit Rate value between 0 and 1.\n",
    "    \"\"\"\n",
    "    cnt = 0\n",
    "    for line in relevance_total:\n",
    "        if True in line:\n",
    "            cnt += 1\n",
    "    return cnt / len(relevance_total)\n",
    "\n",
    "\n",
    "def recall_at_1(relevance_total):\n",
    "    \"\"\"\n",
    "    Calculate Recall@1 (Recall at rank 1) for a set of ranked results.\n",
    "\n",
    "    Recall@1 measures the proportion of queries for which the first returned \n",
    "    result is relevant.\n",
    "\n",
    "    Args:\n",
    "        relevance_total (list of list of bool): \n",
    "            A list where each sublist corresponds to a single query's ranked \n",
    "            results. Each boolean in a sublist indicates whether the result at \n",
    "            that rank is relevant (True) or not (False).\n",
    "\n",
    "    Returns:\n",
    "        float: Recall@1 value between 0 and 1.\n",
    "    \"\"\"\n",
    "    cnt = 0\n",
    "    for line in relevance_total:\n",
    "        if line[0]:\n",
    "            cnt += 1\n",
    "    return cnt / len(relevance_total)\n",
    "\n",
    "def mrr(relevance_total):\n",
    "    \"\"\"\n",
    "    Calculate the Mean Reciprocal Rank (MRR) for a set of ranked results.\n",
    "\n",
    "    MRR measures the average reciprocal rank of the first relevant result \n",
    "    across queries. If a query has multiple relevant results, only the first \n",
    "    relevant result contributes to the score.\n",
    "\n",
    "    Args:\n",
    "        relevance_total (list of list of bool): \n",
    "            A list where each sublist corresponds to a single query's ranked \n",
    "            results. Each boolean in a sublist indicates whether the result at \n",
    "            that rank is relevant (True) or not (False).\n",
    "\n",
    "    Returns:\n",
    "        float: MRR value between 0 and 1.\n",
    "    \"\"\"\n",
    "    total_score = 0.0\n",
    "\n",
    "    for line in relevance_total:\n",
    "        for rank in range(len(line)):\n",
    "            if line[rank] == True:\n",
    "                total_score = total_score + 1 / (rank + 1)\n",
    "                break\n",
    "    return total_score / len(relevance_total)\n",
    "\n",
    "\n",
    "# DataFrame with metrics\n",
    "df_metrics = pd.DataFrame({\"method\" : [], \"hit_rate\": [], \"recall_at_first_pos\": [], \"mrr\": []})"
   ]
  },
  {
   "cell_type": "code",
   "execution_count": 22,
   "id": "d27ba7e7",
   "metadata": {},
   "outputs": [],
   "source": [
    "def evaluate(ground_truth, search_function):\n",
    "    \"\"\"\n",
    "    Run queries through a search function and record relevance results.\n",
    "\n",
    "    For each query in `ground_truth`, this calls `search_function` and\n",
    "    produces a list of booleans indicating whether each retrieved document's\n",
    "    ID matches the query's correct ID. Supports both Qdrant results and plain\n",
    "    list/dict results.\n",
    "\n",
    "    Args:\n",
    "        ground_truth (list of dict): Queries with a correct 'id'.\n",
    "        search_function (callable): Function returning ranked search results.\n",
    "\n",
    "    Returns:\n",
    "        list[list[bool]]: Per-query relevance lists for metric calculations.\n",
    "    \"\"\"\n",
    "    \n",
    "    relevance_total = []\n",
    "\n",
    "    for q in tqdm(ground_truth):\n",
    "        doc_id = q['id']\n",
    "        results = search_function(q)\n",
    "        # Normalize results to a list of IDs\n",
    "        if hasattr(results, \"points\"):  # Qdrant search result\n",
    "            relevance = [d.payload[\"id\"] == doc_id for d in results.points]\n",
    "        else:  # List/dict-based search result\n",
    "            relevance = [d['id'] == doc_id for d in results]\n",
    "\n",
    "        relevance_total.append(relevance)\n",
    "\n",
    "\n",
    "    return {\n",
    "        'hit_rate': hit_rate(relevance_total),\n",
    "        'recall_at_first_pos': recall_at_1(relevance_total),\n",
    "        'mrr': mrr(relevance_total),\n",
    "    }\n"
   ]
  },
  {
   "cell_type": "markdown",
   "id": "6943c380",
   "metadata": {},
   "source": [
    "## MinSearch"
   ]
  },
  {
   "cell_type": "code",
   "execution_count": 23,
   "id": "e04476c6",
   "metadata": {},
   "outputs": [],
   "source": [
    "index = minsearch.Index(\n",
    "    text_fields=[\"name\", \"summary\", \"cultivation\", \"tixicity\"],\n",
    "    keyword_fields=['id']\n",
    ")"
   ]
  },
  {
   "cell_type": "code",
   "execution_count": 24,
   "id": "952a4645",
   "metadata": {},
   "outputs": [
    {
     "data": {
      "text/plain": [
       "<minsearch.minsearch.Index at 0x799aaa4a6120>"
      ]
     },
     "execution_count": 24,
     "metadata": {},
     "output_type": "execute_result"
    }
   ],
   "source": [
    "index.fit(documents)"
   ]
  },
  {
   "cell_type": "code",
   "execution_count": 25,
   "id": "44e53371",
   "metadata": {},
   "outputs": [],
   "source": [
    "def minsearch_search(query):\n",
    "    \"\"\"\n",
    "    Search the index using MinSearch.\n",
    "\n",
    "    Executes a search on the global `index` object with the given query,\n",
    "    no filters, an empty boost dictionary, and returns the top 5 results.\n",
    "\n",
    "    Args:\n",
    "        query (str): Search query string.\n",
    "\n",
    "    Returns:\n",
    "        list[dict]: Ranked search results from the index.\n",
    "    \"\"\"\n",
    "    boost = {}\n",
    "\n",
    "    results = index.search(\n",
    "        query=query,\n",
    "        filter_dict={},\n",
    "        boost_dict=boost,\n",
    "        num_results=5\n",
    "    )\n",
    "\n",
    "    return results"
   ]
  },
  {
   "cell_type": "code",
   "execution_count": 40,
   "id": "e428af64",
   "metadata": {},
   "outputs": [
    {
     "data": {
      "application/vnd.jupyter.widget-view+json": {
       "model_id": "7ff1ccad708d4621a786fcd458755fbe",
       "version_major": 2,
       "version_minor": 0
      },
      "text/plain": [
       "  0%|          | 0/985 [00:00<?, ?it/s]"
      ]
     },
     "metadata": {},
     "output_type": "display_data"
    },
    {
     "data": {
      "text/plain": [
       "{'method': 'minsearch',\n",
       " 'hit_rate': 0.8954314720812183,\n",
       " 'recall_at_first_pos': 0.8223350253807107,\n",
       " 'mrr': 0.8475465313028768}"
      ]
     },
     "execution_count": 40,
     "metadata": {},
     "output_type": "execute_result"
    }
   ],
   "source": [
    "minsearch_metrics = evaluate(ground_truth, lambda q: minsearch_search(q['question']))\n",
    "minsearch_metrics_to_add = {'method': 'minsearch', **minsearch_metrics}\n",
    "minsearch_metrics_to_add"
   ]
  },
  {
   "cell_type": "markdown",
   "id": "2aaef0cc",
   "metadata": {},
   "source": [
    "## Vector Search: TfidfVectorizer + SVD"
   ]
  },
  {
   "cell_type": "code",
   "execution_count": 27,
   "id": "d194e5c3",
   "metadata": {},
   "outputs": [],
   "source": [
    "from minsearch import VectorSearch\n",
    "from sklearn.feature_extraction.text import TfidfVectorizer\n",
    "from sklearn.decomposition import TruncatedSVD\n",
    "from sklearn.pipeline import make_pipeline"
   ]
  },
  {
   "cell_type": "code",
   "execution_count": 28,
   "id": "8dad830d",
   "metadata": {},
   "outputs": [],
   "source": [
    "texts = []\n",
    "\n",
    "for doc in documents:\n",
    "    t = doc['name'] + ' ' + doc['summary'] + ' ' + doc['cultivation']+ ' ' + doc['toxicity']\n",
    "    texts.append(t)\n",
    "\n",
    "pipeline = make_pipeline(\n",
    "    TfidfVectorizer(min_df=1),\n",
    "    TruncatedSVD(n_components=128, random_state=1)\n",
    ")\n",
    "X = pipeline.fit_transform(texts)"
   ]
  },
  {
   "cell_type": "code",
   "execution_count": 29,
   "id": "5fa1496e",
   "metadata": {},
   "outputs": [
    {
     "data": {
      "text/plain": [
       "<minsearch.vector.VectorSearch at 0x799aaa070a10>"
      ]
     },
     "execution_count": 29,
     "metadata": {},
     "output_type": "execute_result"
    }
   ],
   "source": [
    "vindex = VectorSearch(keyword_fields={'id'})\n",
    "vindex.fit(X, documents)"
   ]
  },
  {
   "cell_type": "code",
   "execution_count": 30,
   "id": "270ef56d",
   "metadata": {},
   "outputs": [],
   "source": [
    "def vector_search(query):\n",
    "\n",
    "    query = pipeline.transform([query])\n",
    "    results = vindex.search(\n",
    "        query_vector=query,\n",
    "        num_results=5\n",
    "    )\n",
    "\n",
    "    return results"
   ]
  },
  {
   "cell_type": "code",
   "execution_count": 31,
   "id": "76179858",
   "metadata": {},
   "outputs": [
    {
     "data": {
      "application/vnd.jupyter.widget-view+json": {
       "model_id": "0dc23d7c49d44768bc33f101c6d47582",
       "version_major": 2,
       "version_minor": 0
      },
      "text/plain": [
       "  0%|          | 0/985 [00:00<?, ?it/s]"
      ]
     },
     "metadata": {},
     "output_type": "display_data"
    },
    {
     "data": {
      "text/plain": [
       "{'method': 'vector_search_tfidf_svd',\n",
       " 'hit_rate': 0.9218274111675127,\n",
       " 'recall_at_first_pos': 0.8010152284263959,\n",
       " 'mrr': 0.8525042301184438}"
      ]
     },
     "execution_count": 31,
     "metadata": {},
     "output_type": "execute_result"
    }
   ],
   "source": [
    "vector_search_metrics = evaluate(ground_truth, lambda q: vector_search(q['question']))\n",
    "vector_search_metrics_to_add = {'method': 'vector_search_tfidf_svd', **vector_search_metrics}\n",
    "vector_search_metrics_to_add"
   ]
  },
  {
   "cell_type": "markdown",
   "id": "39c23db1",
   "metadata": {},
   "source": [
    "## Vector Search: jina embeddings"
   ]
  },
  {
   "cell_type": "markdown",
   "id": "8f6bd691",
   "metadata": {},
   "source": [
    "#### Setup for Qdrant\n",
    "\n",
    "First, install the Qdrant client with FastEmbed support:\n",
    "\n",
    "```bash\n",
    "pip install -q \"qdrant-client[fastembed]>=1.14.2\"\n",
    "```\n",
    "Then, run Qdrant in Docker:\n",
    "\n",
    "```bash\n",
    "docker pull qdrant/qdrant\n",
    "\n",
    "docker run -p 6333:6333 -p 6334:6334 \\\n",
    "   -v \"$(pwd)/qdrant_storage:/qdrant/storage:z\" \\\n",
    "   qdrant/qdrant"
   ]
  },
  {
   "cell_type": "code",
   "execution_count": 32,
   "id": "5fa10baf",
   "metadata": {},
   "outputs": [],
   "source": [
    "from qdrant_client import QdrantClient, models\n",
    "client = QdrantClient(\"http://localhost:6333\")"
   ]
  },
  {
   "cell_type": "code",
   "execution_count": 33,
   "id": "15afff2c",
   "metadata": {},
   "outputs": [],
   "source": [
    "EMBEDDING_DIMENSIONALITY = 512\n",
    "model_handle = \"jinaai/jina-embeddings-v2-small-en\""
   ]
  },
  {
   "cell_type": "code",
   "execution_count": 34,
   "id": "f4dd62a4",
   "metadata": {},
   "outputs": [
    {
     "data": {
      "text/plain": [
       "True"
      ]
     },
     "execution_count": 34,
     "metadata": {},
     "output_type": "execute_result"
    }
   ],
   "source": [
    "# Define the collection name\n",
    "collection_name = \"rag-project\"\n",
    "if client.collection_exists(collection_name):\n",
    "    client.delete_collection(collection_name)                               \n",
    "# Create the collection with specified vector parameters\n",
    "client.create_collection(\n",
    "    collection_name=collection_name,\n",
    "    vectors_config=models.VectorParams(\n",
    "        size=EMBEDDING_DIMENSIONALITY,  # Dimensionality of the vectors\n",
    "        distance=models.Distance.COSINE  # Distance metric for similarity search\n",
    "    )\n",
    ")"
   ]
  },
  {
   "cell_type": "code",
   "execution_count": 35,
   "id": "b6e70ddc",
   "metadata": {},
   "outputs": [],
   "source": [
    "points = []\n",
    "\n",
    "for i, doc in enumerate(documents):\n",
    "    text = doc['name'] + ' ' + doc['summary'] + ' ' + doc['cultivation']+ ' ' + doc['toxicity']\n",
    "    vector = models.Document(text=text, model=model_handle)\n",
    "    point = models.PointStruct(\n",
    "        id=i,\n",
    "        vector=vector,\n",
    "        payload=doc\n",
    "    )\n",
    "    points.append(point)"
   ]
  },
  {
   "cell_type": "code",
   "execution_count": 36,
   "id": "d88d7513",
   "metadata": {},
   "outputs": [
    {
     "data": {
      "text/plain": [
       "UpdateResult(operation_id=0, status=<UpdateStatus.COMPLETED: 'completed'>)"
      ]
     },
     "execution_count": 36,
     "metadata": {},
     "output_type": "execute_result"
    }
   ],
   "source": [
    "client.upsert(\n",
    "    collection_name=collection_name,\n",
    "    points=points\n",
    ")"
   ]
  },
  {
   "cell_type": "code",
   "execution_count": 37,
   "id": "81c62efe",
   "metadata": {},
   "outputs": [],
   "source": [
    "def jina_emb_search(query, limit=5):\n",
    "    \"\"\"\n",
    "        Searches for similar documents using Jina embeddings.\n",
    "\n",
    "        Args:\n",
    "            query: The search query string.\n",
    "            limit: The maximum number of results to return. Defaults to 5.\n",
    "\n",
    "        Returns:\n",
    "            A list of search results.\n",
    "    \"\"\"\n",
    "    results = client.query_points(\n",
    "        collection_name=collection_name,\n",
    "        query=models.Document( \n",
    "            text=query,\n",
    "            model=model_handle\n",
    "        ),\n",
    "        limit=limit, # top closest matches\n",
    "        with_payload=True, #to get metadata in the results,\n",
    "\n",
    "    )\n",
    "    \n",
    "    return results"
   ]
  },
  {
   "cell_type": "code",
   "execution_count": 38,
   "id": "7c2c2d25",
   "metadata": {},
   "outputs": [
    {
     "data": {
      "application/vnd.jupyter.widget-view+json": {
       "model_id": "972da8cc2cf04a1497342e8b877c14b2",
       "version_major": 2,
       "version_minor": 0
      },
      "text/plain": [
       "  0%|          | 0/985 [00:00<?, ?it/s]"
      ]
     },
     "metadata": {},
     "output_type": "display_data"
    },
    {
     "data": {
      "text/plain": [
       "{'method': 'vector_search_jina_emb_metrics',\n",
       " 'hit_rate': 0.9279187817258884,\n",
       " 'recall_at_first_pos': 0.8609137055837564,\n",
       " 'mrr': 0.8867174280879867}"
      ]
     },
     "execution_count": 38,
     "metadata": {},
     "output_type": "execute_result"
    }
   ],
   "source": [
    "vector_search_jina_emb_metrics = evaluate(ground_truth, lambda q: jina_emb_search(q['question']))\n",
    "vector_search_jina_emb_metrics_to_add = {'method': 'vector_search_jina_emb_metrics', **vector_search_jina_emb_metrics}\n",
    "vector_search_jina_emb_metrics_to_add"
   ]
  },
  {
   "cell_type": "markdown",
   "id": "e3d3432e",
   "metadata": {},
   "source": [
    "## Hybrid search"
   ]
  },
  {
   "cell_type": "code",
   "execution_count": 10,
   "id": "6923193c",
   "metadata": {},
   "outputs": [
    {
     "data": {
      "text/plain": [
       "True"
      ]
     },
     "execution_count": 10,
     "metadata": {},
     "output_type": "execute_result"
    }
   ],
   "source": [
    "collection_name = \"rag-project-sparse-and-dense\"\n",
    "# Create the collection with both vector types\n",
    "if client.collection_exists(collection_name):\n",
    "    client.delete_collection(collection_name)    \n",
    "client.create_collection(\n",
    "    collection_name=collection_name,\n",
    "    vectors_config={\n",
    "        # Named dense vector for jinaai/jina-embeddings-v2-small-en\n",
    "        \"jina-small\": models.VectorParams(\n",
    "            size=512,\n",
    "            distance=models.Distance.COSINE,\n",
    "        ),\n",
    "    },\n",
    "    sparse_vectors_config={\n",
    "        \"bm25\": models.SparseVectorParams(\n",
    "            modifier=models.Modifier.IDF,\n",
    "        )\n",
    "    }\n",
    ")"
   ]
  },
  {
   "cell_type": "code",
   "execution_count": 11,
   "id": "fd5fadc4",
   "metadata": {},
   "outputs": [],
   "source": [
    "points = []\n",
    "\n",
    "for i, doc in enumerate(documents):\n",
    "    text = doc['name'] + ' ' + doc['summary'] + ' ' + doc['cultivation']+ ' ' + doc['toxicity']\n",
    "    vector = {\n",
    "                \"jina-small\": models.Document(\n",
    "                    text=text,\n",
    "                    model=\"jinaai/jina-embeddings-v2-small-en\",\n",
    "                ),\n",
    "                \"bm25\": models.Document(\n",
    "                    text=text, \n",
    "                    model=\"Qdrant/bm25\",\n",
    "                ),\n",
    "    }\n",
    "    point = models.PointStruct(\n",
    "        id=i,\n",
    "        vector=vector,\n",
    "        payload=doc\n",
    "    )\n",
    "    points.append(point)"
   ]
  },
  {
   "cell_type": "code",
   "execution_count": 12,
   "id": "ddc3e93b",
   "metadata": {},
   "outputs": [
    {
     "data": {
      "text/plain": [
       "UpdateResult(operation_id=0, status=<UpdateStatus.COMPLETED: 'completed'>)"
      ]
     },
     "execution_count": 12,
     "metadata": {},
     "output_type": "execute_result"
    }
   ],
   "source": [
    "client.upsert(\n",
    "    collection_name=collection_name,\n",
    "    points=points\n",
    ")"
   ]
  },
  {
   "cell_type": "code",
   "execution_count": 13,
   "id": "e12ea136",
   "metadata": {},
   "outputs": [],
   "source": [
    "def multi_stage_search(query, limit = 5):\n",
    "    \"\"\"\n",
    "    Perform a hybrid multi-stage search combining BM25 keyword search \n",
    "    with semantic prefetch using Jina embeddings. \n",
    "    Prefetch retrieves 10× the requested results for improved reranking, \n",
    "    then returns the top matches with payloads.\n",
    "\n",
    "    Args:\n",
    "        query (str): Search query text.\n",
    "        limit (int, optional): Number of final results to return. Defaults to 5.\n",
    "\n",
    "    Returns:\n",
    "        list[models.ScoredPoint]: Ranked search results with payload data.\n",
    "    \"\"\"\n",
    "    results = client.query_points(\n",
    "        collection_name=collection_name,\n",
    "        prefetch=[\n",
    "            models.Prefetch(\n",
    "                query=models.Document(\n",
    "                    text=query,\n",
    "                    model=\"jinaai/jina-embeddings-v2-small-en\",\n",
    "                ),\n",
    "                using=\"jina-small\",\n",
    "                # Prefetch ten times more results, then\n",
    "                # expected to return, so we can really rerank\n",
    "                limit=(10 * limit),\n",
    "            ),\n",
    "        ],\n",
    "        query=models.Document(\n",
    "            text=query,\n",
    "            model=\"Qdrant/bm25\", \n",
    "        ),\n",
    "        using=\"bm25\",\n",
    "        limit=limit,\n",
    "        with_payload=True,\n",
    "    )\n",
    "\n",
    "    return results"
   ]
  },
  {
   "cell_type": "code",
   "execution_count": 14,
   "id": "da5e0923",
   "metadata": {},
   "outputs": [
    {
     "data": {
      "application/vnd.jupyter.widget-view+json": {
       "model_id": "f24a82d492724e4ea7f461fb76505508",
       "version_major": 2,
       "version_minor": 0
      },
      "text/plain": [
       "  0%|          | 0/985 [00:00<?, ?it/s]"
      ]
     },
     "metadata": {},
     "output_type": "display_data"
    },
    {
     "data": {
      "text/plain": [
       "{'method': 'hybrid_search_metrics',\n",
       " 'hit_rate': 0.9411167512690355,\n",
       " 'recall_at_first_pos': 0.8710659898477158,\n",
       " 'mrr': 0.9003214890016923}"
      ]
     },
     "execution_count": 14,
     "metadata": {},
     "output_type": "execute_result"
    }
   ],
   "source": [
    "hybrid_search_metrics = evaluate(ground_truth, lambda q: multi_stage_search(q['question']))\n",
    "hybrid_search_metrics_to_add = {'method': 'hybrid_search_metrics', **hybrid_search_metrics}\n",
    "hybrid_search_metrics_to_add"
   ]
  },
  {
   "cell_type": "code",
   "execution_count": 41,
   "id": "32b89aaf",
   "metadata": {},
   "outputs": [
    {
     "data": {
      "text/html": [
       "<div>\n",
       "<style scoped>\n",
       "    .dataframe tbody tr th:only-of-type {\n",
       "        vertical-align: middle;\n",
       "    }\n",
       "\n",
       "    .dataframe tbody tr th {\n",
       "        vertical-align: top;\n",
       "    }\n",
       "\n",
       "    .dataframe thead th {\n",
       "        text-align: right;\n",
       "    }\n",
       "</style>\n",
       "<table border=\"1\" class=\"dataframe\">\n",
       "  <thead>\n",
       "    <tr style=\"text-align: right;\">\n",
       "      <th></th>\n",
       "      <th>method</th>\n",
       "      <th>hit_rate</th>\n",
       "      <th>recall_at_first_pos</th>\n",
       "      <th>mrr</th>\n",
       "    </tr>\n",
       "  </thead>\n",
       "  <tbody>\n",
       "    <tr>\n",
       "      <th>0</th>\n",
       "      <td>minsearch</td>\n",
       "      <td>0.895431</td>\n",
       "      <td>0.822335</td>\n",
       "      <td>0.847547</td>\n",
       "    </tr>\n",
       "    <tr>\n",
       "      <th>1</th>\n",
       "      <td>vector_search_tfidf_svd</td>\n",
       "      <td>0.921827</td>\n",
       "      <td>0.801015</td>\n",
       "      <td>0.852504</td>\n",
       "    </tr>\n",
       "    <tr>\n",
       "      <th>2</th>\n",
       "      <td>vector_search_jina_emb_metrics</td>\n",
       "      <td>0.927919</td>\n",
       "      <td>0.860914</td>\n",
       "      <td>0.886717</td>\n",
       "    </tr>\n",
       "    <tr>\n",
       "      <th>3</th>\n",
       "      <td>hybrid_search_metrics</td>\n",
       "      <td>0.941117</td>\n",
       "      <td>0.871066</td>\n",
       "      <td>0.900321</td>\n",
       "    </tr>\n",
       "  </tbody>\n",
       "</table>\n",
       "</div>"
      ],
      "text/plain": [
       "                           method  hit_rate  recall_at_first_pos       mrr\n",
       "0                       minsearch  0.895431             0.822335  0.847547\n",
       "1         vector_search_tfidf_svd  0.921827             0.801015  0.852504\n",
       "2  vector_search_jina_emb_metrics  0.927919             0.860914  0.886717\n",
       "3           hybrid_search_metrics  0.941117             0.871066  0.900321"
      ]
     },
     "execution_count": 41,
     "metadata": {},
     "output_type": "execute_result"
    }
   ],
   "source": [
    "rows = [minsearch_metrics_to_add, vector_search_metrics_to_add, vector_search_jina_emb_metrics_to_add, hybrid_search_metrics_to_add]\n",
    "# Convert to DataFrame and append all at once\n",
    "df_metrics = pd.concat([df_metrics, pd.DataFrame(rows)], ignore_index=True)\n",
    "df_metrics"
   ]
  },
  {
   "cell_type": "code",
   "execution_count": null,
   "id": "8f715c47",
   "metadata": {},
   "outputs": [],
   "source": []
  }
 ],
 "metadata": {
  "kernelspec": {
   "display_name": "Python 3",
   "language": "python",
   "name": "python3"
  },
  "language_info": {
   "codemirror_mode": {
    "name": "ipython",
    "version": 3
   },
   "file_extension": ".py",
   "mimetype": "text/x-python",
   "name": "python",
   "nbconvert_exporter": "python",
   "pygments_lexer": "ipython3",
   "version": "3.12.1"
  }
 },
 "nbformat": 4,
 "nbformat_minor": 5
}
