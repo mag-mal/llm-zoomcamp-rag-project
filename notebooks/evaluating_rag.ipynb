{
 "cells": [
  {
   "cell_type": "markdown",
   "id": "0f6c615c",
   "metadata": {},
   "source": [
    "## RAG flow"
   ]
  },
  {
   "cell_type": "markdown",
   "id": "1f1cc00c",
   "metadata": {},
   "source": [
    "#### Setup for Qdrant\n",
    "\n",
    "First, install the Qdrant client with FastEmbed support:\n",
    "\n",
    "```bash\n",
    "pip install -q \"qdrant-client[fastembed]>=1.14.2\"\n",
    "```\n",
    "Then, run Qdrant in Docker:\n",
    "\n",
    "```bash\n",
    "docker pull qdrant/qdrant\n",
    "\n",
    "docker run -p 6333:6333 -p 6334:6334 \\\n",
    "   -v \"$(pwd)/qdrant_storage:/qdrant/storage:z\" \\\n",
    "   qdrant/qdrant"
   ]
  },
  {
   "cell_type": "code",
   "execution_count": 13,
   "id": "df43b758",
   "metadata": {},
   "outputs": [],
   "source": [
    "import json\n",
    "import pandas as pd\n",
    "import time\n",
    "from tqdm.auto import tqdm\n",
    "from qdrant_client import QdrantClient, models\n",
    "from google import genai\n",
    "from groq import Groq\n",
    "from dotenv import load_dotenv\n",
    "import os\n",
    "\n",
    "# Qdrant client\n",
    "client = QdrantClient(\"http://localhost:6333\")\n",
    "\n",
    "# Load the environment variables from the .env file\n",
    "load_dotenv()\n",
    "\n",
    "# Retrieve Groq API key\n",
    "# https://console.groq.com/keys\n",
    "# 1000 credits for gpt-oss\n",
    "groq_api_key = os.getenv('GROQ_API_KEY')\n",
    "\n",
    "# Retrieve Google API key\n",
    "# free api key https://aistudio.google.com/app/apikey\n",
    "# 250 free RPD for 2.5-flash, 1000 for 2.5-flash-lite\n",
    "google_api_key = os.getenv('GOOGLE_API_KEY')"
   ]
  },
  {
   "cell_type": "markdown",
   "id": "ec5fea60",
   "metadata": {},
   "source": [
    "## Load data - 200 sample questions due to api credit limits "
   ]
  },
  {
   "cell_type": "code",
   "execution_count": 14,
   "id": "196a929e",
   "metadata": {},
   "outputs": [],
   "source": [
    "plants_data = pd.read_csv(\"../data/plants_data.csv\")\n",
    "documents = plants_data.to_dict(orient='records')\n",
    "\n",
    "df_question = pd.read_csv(\"../data/ground-truth-retrieval-5q.csv\")\n",
    "df_sample = df_question.sample(n=200, random_state=2)\n",
    "ground_truth_sample = df_sample.to_dict(orient='records')"
   ]
  },
  {
   "cell_type": "code",
   "execution_count": 15,
   "id": "d765b29d",
   "metadata": {},
   "outputs": [
    {
     "data": {
      "text/html": [
       "<div>\n",
       "<style scoped>\n",
       "    .dataframe tbody tr th:only-of-type {\n",
       "        vertical-align: middle;\n",
       "    }\n",
       "\n",
       "    .dataframe tbody tr th {\n",
       "        vertical-align: top;\n",
       "    }\n",
       "\n",
       "    .dataframe thead th {\n",
       "        text-align: right;\n",
       "    }\n",
       "</style>\n",
       "<table border=\"1\" class=\"dataframe\">\n",
       "  <thead>\n",
       "    <tr style=\"text-align: right;\">\n",
       "      <th></th>\n",
       "      <th>id</th>\n",
       "      <th>question</th>\n",
       "    </tr>\n",
       "  </thead>\n",
       "  <tbody>\n",
       "    <tr>\n",
       "      <th>817</th>\n",
       "      <td>163</td>\n",
       "      <td>What kind of environmental conditions does Mon...</td>\n",
       "    </tr>\n",
       "    <tr>\n",
       "      <th>658</th>\n",
       "      <td>131</td>\n",
       "      <td>Where is Goeppertia picturata originally from,...</td>\n",
       "    </tr>\n",
       "    <tr>\n",
       "      <th>969</th>\n",
       "      <td>193</td>\n",
       "      <td>What characteristics make Platycerium bifurcat...</td>\n",
       "    </tr>\n",
       "    <tr>\n",
       "      <th>553</th>\n",
       "      <td>110</td>\n",
       "      <td>What alternate name is sometimes used for Drac...</td>\n",
       "    </tr>\n",
       "    <tr>\n",
       "      <th>158</th>\n",
       "      <td>31</td>\n",
       "      <td>In what year was Alocasia scalprum officially ...</td>\n",
       "    </tr>\n",
       "  </tbody>\n",
       "</table>\n",
       "</div>"
      ],
      "text/plain": [
       "      id                                           question\n",
       "817  163  What kind of environmental conditions does Mon...\n",
       "658  131  Where is Goeppertia picturata originally from,...\n",
       "969  193  What characteristics make Platycerium bifurcat...\n",
       "553  110  What alternate name is sometimes used for Drac...\n",
       "158   31  In what year was Alocasia scalprum officially ..."
      ]
     },
     "execution_count": 15,
     "metadata": {},
     "output_type": "execute_result"
    }
   ],
   "source": [
    "df_sample.head()"
   ]
  },
  {
   "cell_type": "markdown",
   "id": "042806d2",
   "metadata": {},
   "source": [
    "## Hybrid search functions"
   ]
  },
  {
   "cell_type": "code",
   "execution_count": 16,
   "id": "40a3b20f",
   "metadata": {},
   "outputs": [],
   "source": [
    "EMBEDDING_DIMENSIONALITY = 512\n",
    "model_handle = \"jinaai/jina-embeddings-v2-small-en\""
   ]
  },
  {
   "cell_type": "code",
   "execution_count": 17,
   "id": "5ec8e16c",
   "metadata": {},
   "outputs": [
    {
     "data": {
      "text/plain": [
       "True"
      ]
     },
     "execution_count": 17,
     "metadata": {},
     "output_type": "execute_result"
    }
   ],
   "source": [
    "collection_name = \"rag-project-sparse-and-dense\"\n",
    "# Create the collection with both vector types\n",
    "if client.collection_exists(collection_name):\n",
    "    client.delete_collection(collection_name)    \n",
    "client.create_collection(\n",
    "    collection_name=collection_name,\n",
    "    vectors_config={\n",
    "        # Named dense vector for jinaai/jina-embeddings-v2-small-en\n",
    "        \"jina-small\": models.VectorParams(\n",
    "            size=512,\n",
    "            distance=models.Distance.COSINE,\n",
    "        ),\n",
    "    },\n",
    "    sparse_vectors_config={\n",
    "        \"bm25\": models.SparseVectorParams(\n",
    "            modifier=models.Modifier.IDF,\n",
    "        )\n",
    "    }\n",
    ")"
   ]
  },
  {
   "cell_type": "code",
   "execution_count": 18,
   "id": "5c99e1a0",
   "metadata": {},
   "outputs": [],
   "source": [
    "points = []\n",
    "\n",
    "for i, doc in enumerate(documents):\n",
    "    text = doc['name'] + ' ' + doc['summary'] + ' ' + doc['cultivation']+ ' ' + doc['toxicity']\n",
    "    vector = {\n",
    "                \"jina-small\": models.Document(\n",
    "                    text=text,\n",
    "                    model=\"jinaai/jina-embeddings-v2-small-en\",\n",
    "                ),\n",
    "                \"bm25\": models.Document(\n",
    "                    text=text, \n",
    "                    model=\"Qdrant/bm25\",\n",
    "                ),\n",
    "    }\n",
    "    point = models.PointStruct(\n",
    "        id=i,\n",
    "        vector=vector,\n",
    "        payload=doc\n",
    "    )\n",
    "    points.append(point)"
   ]
  },
  {
   "cell_type": "code",
   "execution_count": 19,
   "id": "e0030596",
   "metadata": {},
   "outputs": [
    {
     "data": {
      "application/vnd.jupyter.widget-view+json": {
       "model_id": "a69a3492bc424b7c82b86e030a8ed10a",
       "version_major": 2,
       "version_minor": 0
      },
      "text/plain": [
       "Fetching 5 files:   0%|          | 0/5 [00:00<?, ?it/s]"
      ]
     },
     "metadata": {},
     "output_type": "display_data"
    },
    {
     "data": {
      "application/vnd.jupyter.widget-view+json": {
       "model_id": "fdd0d3d0c3b948cbb97433d36684a24b",
       "version_major": 2,
       "version_minor": 0
      },
      "text/plain": [
       "special_tokens_map.json:   0%|          | 0.00/125 [00:00<?, ?B/s]"
      ]
     },
     "metadata": {},
     "output_type": "display_data"
    },
    {
     "data": {
      "application/vnd.jupyter.widget-view+json": {
       "model_id": "d862ec5765964cd1a4d0825f71c8973f",
       "version_major": 2,
       "version_minor": 0
      },
      "text/plain": [
       "tokenizer.json: 0.00B [00:00, ?B/s]"
      ]
     },
     "metadata": {},
     "output_type": "display_data"
    },
    {
     "data": {
      "application/vnd.jupyter.widget-view+json": {
       "model_id": "9a267e196125410f8b8f6fd2ad4c6acc",
       "version_major": 2,
       "version_minor": 0
      },
      "text/plain": [
       "config.json: 0.00B [00:00, ?B/s]"
      ]
     },
     "metadata": {},
     "output_type": "display_data"
    },
    {
     "data": {
      "application/vnd.jupyter.widget-view+json": {
       "model_id": "e8e669aa259d4e3499956bb87d7650f4",
       "version_major": 2,
       "version_minor": 0
      },
      "text/plain": [
       "tokenizer_config.json:   0%|          | 0.00/367 [00:00<?, ?B/s]"
      ]
     },
     "metadata": {},
     "output_type": "display_data"
    },
    {
     "data": {
      "application/vnd.jupyter.widget-view+json": {
       "model_id": "8caf632cb18e4fe7a191dac1432af055",
       "version_major": 2,
       "version_minor": 0
      },
      "text/plain": [
       "onnx/model.onnx:   0%|          | 0.00/130M [00:00<?, ?B/s]"
      ]
     },
     "metadata": {},
     "output_type": "display_data"
    },
    {
     "data": {
      "application/vnd.jupyter.widget-view+json": {
       "model_id": "4ca0cf6a39c6405f93831cc13fe2edc1",
       "version_major": 2,
       "version_minor": 0
      },
      "text/plain": [
       "Fetching 18 files:   0%|          | 0/18 [00:00<?, ?it/s]"
      ]
     },
     "metadata": {},
     "output_type": "display_data"
    },
    {
     "data": {
      "application/vnd.jupyter.widget-view+json": {
       "model_id": "16961cc659a94c67b1e876e445dc57b8",
       "version_major": 2,
       "version_minor": 0
      },
      "text/plain": [
       "arabic.txt: 0.00B [00:00, ?B/s]"
      ]
     },
     "metadata": {},
     "output_type": "display_data"
    },
    {
     "data": {
      "application/vnd.jupyter.widget-view+json": {
       "model_id": "f0da2c3abbee42f1ac716acddddf9e1a",
       "version_major": 2,
       "version_minor": 0
      },
      "text/plain": [
       "danish.txt:   0%|          | 0.00/424 [00:00<?, ?B/s]"
      ]
     },
     "metadata": {},
     "output_type": "display_data"
    },
    {
     "data": {
      "application/vnd.jupyter.widget-view+json": {
       "model_id": "5f7c3499a05d4e20afba0e09b8d69394",
       "version_major": 2,
       "version_minor": 0
      },
      "text/plain": [
       "dutch.txt:   0%|          | 0.00/453 [00:00<?, ?B/s]"
      ]
     },
     "metadata": {},
     "output_type": "display_data"
    },
    {
     "data": {
      "application/vnd.jupyter.widget-view+json": {
       "model_id": "b2f4aa8ee4374abc91ca99b0a7ebd7df",
       "version_major": 2,
       "version_minor": 0
      },
      "text/plain": [
       "german.txt: 0.00B [00:00, ?B/s]"
      ]
     },
     "metadata": {},
     "output_type": "display_data"
    },
    {
     "data": {
      "application/vnd.jupyter.widget-view+json": {
       "model_id": "d2042abee4564d89b04f1544570b0fcf",
       "version_major": 2,
       "version_minor": 0
      },
      "text/plain": [
       "config.json:   0%|          | 0.00/2.00 [00:00<?, ?B/s]"
      ]
     },
     "metadata": {},
     "output_type": "display_data"
    },
    {
     "data": {
      "application/vnd.jupyter.widget-view+json": {
       "model_id": "8aa0a4674e6e4695bfc3ea41fd6f2b3e",
       "version_major": 2,
       "version_minor": 0
      },
      "text/plain": [
       "french.txt:   0%|          | 0.00/813 [00:00<?, ?B/s]"
      ]
     },
     "metadata": {},
     "output_type": "display_data"
    },
    {
     "data": {
      "application/vnd.jupyter.widget-view+json": {
       "model_id": "af3734d083c846629276667f00036e96",
       "version_major": 2,
       "version_minor": 0
      },
      "text/plain": [
       "finnish.txt: 0.00B [00:00, ?B/s]"
      ]
     },
     "metadata": {},
     "output_type": "display_data"
    },
    {
     "data": {
      "application/vnd.jupyter.widget-view+json": {
       "model_id": "69ddda2b3ff4434a95ce1e3fe4b0ba26",
       "version_major": 2,
       "version_minor": 0
      },
      "text/plain": [
       "english.txt:   0%|          | 0.00/936 [00:00<?, ?B/s]"
      ]
     },
     "metadata": {},
     "output_type": "display_data"
    },
    {
     "data": {
      "application/vnd.jupyter.widget-view+json": {
       "model_id": "b8263d5008d84f18a140614dd8f275b0",
       "version_major": 2,
       "version_minor": 0
      },
      "text/plain": [
       "greek.txt: 0.00B [00:00, ?B/s]"
      ]
     },
     "metadata": {},
     "output_type": "display_data"
    },
    {
     "data": {
      "application/vnd.jupyter.widget-view+json": {
       "model_id": "a57eca5d9473460dad815f4bd9c987b2",
       "version_major": 2,
       "version_minor": 0
      },
      "text/plain": [
       "italian.txt: 0.00B [00:00, ?B/s]"
      ]
     },
     "metadata": {},
     "output_type": "display_data"
    },
    {
     "data": {
      "application/vnd.jupyter.widget-view+json": {
       "model_id": "d74c019cf9164069a56d3919f612f493",
       "version_major": 2,
       "version_minor": 0
      },
      "text/plain": [
       "romanian.txt: 0.00B [00:00, ?B/s]"
      ]
     },
     "metadata": {},
     "output_type": "display_data"
    },
    {
     "data": {
      "application/vnd.jupyter.widget-view+json": {
       "model_id": "1e2aa97ca13646efb7e9acf39c2ba3c5",
       "version_major": 2,
       "version_minor": 0
      },
      "text/plain": [
       "norwegian.txt:   0%|          | 0.00/851 [00:00<?, ?B/s]"
      ]
     },
     "metadata": {},
     "output_type": "display_data"
    },
    {
     "data": {
      "application/vnd.jupyter.widget-view+json": {
       "model_id": "db2e385a744d49fb8097e1424d7e250c",
       "version_major": 2,
       "version_minor": 0
      },
      "text/plain": [
       "hungarian.txt: 0.00B [00:00, ?B/s]"
      ]
     },
     "metadata": {},
     "output_type": "display_data"
    },
    {
     "data": {
      "application/vnd.jupyter.widget-view+json": {
       "model_id": "4ebccc34854e4efaa756ae33652fa65d",
       "version_major": 2,
       "version_minor": 0
      },
      "text/plain": [
       "russian.txt: 0.00B [00:00, ?B/s]"
      ]
     },
     "metadata": {},
     "output_type": "display_data"
    },
    {
     "data": {
      "application/vnd.jupyter.widget-view+json": {
       "model_id": "1a9d7347d554450180c0c4425fa20026",
       "version_major": 2,
       "version_minor": 0
      },
      "text/plain": [
       "portuguese.txt: 0.00B [00:00, ?B/s]"
      ]
     },
     "metadata": {},
     "output_type": "display_data"
    },
    {
     "data": {
      "application/vnd.jupyter.widget-view+json": {
       "model_id": "4446b23df0f646f683dde05adff5d3c6",
       "version_major": 2,
       "version_minor": 0
      },
      "text/plain": [
       "spanish.txt: 0.00B [00:00, ?B/s]"
      ]
     },
     "metadata": {},
     "output_type": "display_data"
    },
    {
     "data": {
      "application/vnd.jupyter.widget-view+json": {
       "model_id": "7f61ad39ef4c45cfb49e964cb422362d",
       "version_major": 2,
       "version_minor": 0
      },
      "text/plain": [
       "turkish.txt:   0%|          | 0.00/260 [00:00<?, ?B/s]"
      ]
     },
     "metadata": {},
     "output_type": "display_data"
    },
    {
     "data": {
      "application/vnd.jupyter.widget-view+json": {
       "model_id": "5f3eb87f08e74e4aa26bc28de7300c1c",
       "version_major": 2,
       "version_minor": 0
      },
      "text/plain": [
       "swedish.txt:   0%|          | 0.00/559 [00:00<?, ?B/s]"
      ]
     },
     "metadata": {},
     "output_type": "display_data"
    },
    {
     "data": {
      "text/plain": [
       "UpdateResult(operation_id=0, status=<UpdateStatus.COMPLETED: 'completed'>)"
      ]
     },
     "execution_count": 19,
     "metadata": {},
     "output_type": "execute_result"
    }
   ],
   "source": [
    "client.upsert(\n",
    "    collection_name=collection_name,\n",
    "    points=points\n",
    ")"
   ]
  },
  {
   "cell_type": "code",
   "execution_count": 20,
   "id": "93803f74",
   "metadata": {},
   "outputs": [],
   "source": [
    "def multi_stage_search(query, limit = 5):\n",
    "    \"\"\"\n",
    "    Perform a hybrid multi-stage search combining BM25 keyword search \n",
    "    with semantic prefetch using Jina embeddings. \n",
    "    Prefetch retrieves 10× the requested results for improved reranking, \n",
    "    then returns the top matches with payloads.\n",
    "\n",
    "    Args:\n",
    "        query (str): Search query text.\n",
    "        limit (int, optional): Number of final results to return. Defaults to 5.\n",
    "\n",
    "    Returns:\n",
    "        list[models.ScoredPoint]: Ranked search results with payload data.\n",
    "    \"\"\"\n",
    "    results = client.query_points(\n",
    "        collection_name=collection_name,\n",
    "        prefetch=[\n",
    "            models.Prefetch(\n",
    "                query=models.Document(\n",
    "                    text=query,\n",
    "                    model=\"jinaai/jina-embeddings-v2-small-en\",\n",
    "                ),\n",
    "                using=\"jina-small\",\n",
    "                # Prefetch ten times more results, then\n",
    "                # expected to return, so we can really rerank\n",
    "                limit=(10 * limit),\n",
    "            ),\n",
    "        ],\n",
    "        query=models.Document(\n",
    "            text=query,\n",
    "            model=\"Qdrant/bm25\", \n",
    "        ),\n",
    "        using=\"bm25\",\n",
    "        limit=limit,\n",
    "        with_payload=True,\n",
    "    )\n",
    "\n",
    "    return results"
   ]
  },
  {
   "cell_type": "code",
   "execution_count": 21,
   "id": "e808f03d",
   "metadata": {},
   "outputs": [],
   "source": [
    "prompt_template1 = \"\"\"\n",
    "You are a knowledgeable and friendly plant specialist.\n",
    "Your expertise covers house plants, their care and toxicity.\n",
    "Answer the QUESTION based on the CONTEXT from our plants database.\n",
    "Use only the facts from the CONTEXT when answering the QUESTION.\n",
    "\n",
    "QUESTION: {question}\n",
    "\n",
    "CONTEXT:\n",
    "{context}\n",
    "\"\"\".strip()\n",
    "\n",
    "entry_template1 = \"\"\"\n",
    "plant name: {name}\n",
    "summary: {summary}\n",
    "cultivation: {cultivation}\n",
    "toxicity: {toxicity}\n",
    "\"\"\".strip()\n"
   ]
  },
  {
   "cell_type": "code",
   "execution_count": 22,
   "id": "0873dce1",
   "metadata": {},
   "outputs": [],
   "source": [
    "prompt_template2 = \"\"\"\n",
    "You are a knowledgeable and friendly plant specialist.\n",
    "Your expertise covers houseplants, their care, and toxicity.\n",
    "\n",
    "Answer the QUESTION using only the information provided in CONTEXT. \n",
    "If the CONTEXT does not contain the answer, say so clearly. \n",
    "Do not add outside knowledge or assumptions. \n",
    "Keep your answer clear, accurate, and concise.\n",
    "\n",
    "QUESTION: {question}\n",
    "\n",
    "CONTEXT:\n",
    "{context}\n",
    "\"\"\".strip()\n",
    "\n",
    "entry_template2 = \"\"\"\n",
    "Plant: {name}\n",
    "Summary: {summary}\n",
    "Cultivation: {cultivation}\n",
    "Toxicity: {toxicity}\n",
    "\"\"\".strip()\n",
    "\n",
    "def build_prompt(query, search_results, prompt_template, entry_template):\n",
    "    context = \"\"\n",
    "    \n",
    "    for doc in search_results:\n",
    "        context = context + entry_template.format(**doc) + \"\\n\\n\"\n",
    "\n",
    "    prompt = prompt_template.format(question=query, context=context).strip()\n",
    "    return prompt"
   ]
  },
  {
   "cell_type": "markdown",
   "id": "973f1bd2",
   "metadata": {},
   "source": [
    "## Groq API"
   ]
  },
  {
   "cell_type": "code",
   "execution_count": 17,
   "id": "bebf08be",
   "metadata": {},
   "outputs": [],
   "source": [
    "def gpt_oss_answer(content, model=\"openai/gpt-oss-20b\"):\n",
    "  \"\"\"\n",
    "    Generate GPT-OSS model response from Groq Api.\n",
    "\n",
    "    Args:\n",
    "        content (str): Prompt for the model.\n",
    "        model (str, optional): Model name. Defaults to \"openai/gpt-oss-20b\".\n",
    "\n",
    "    Returns:\n",
    "        str: Concatenated response text.\n",
    "  \"\"\"\n",
    "  client = Groq(api_key=groq_api_key)\n",
    "  completion = client.chat.completions.create(\n",
    "      model=model,\n",
    "      messages=[\n",
    "        {\n",
    "          \"role\": \"system\",\n",
    "          \"content\": content\n",
    "        }\n",
    "      ],\n",
    "      temperature=1,\n",
    "      max_completion_tokens=8192,\n",
    "      top_p=1,\n",
    "      reasoning_effort=\"medium\",\n",
    "      stream=True,\n",
    "      stop=None\n",
    "  )\n",
    "  joined_answer = ''\n",
    "  \n",
    "  for chunk in completion:\n",
    "\n",
    "      chunk_answer = chunk.choices[0].delta.content or \"\"\n",
    "      joined_answer = joined_answer + chunk_answer\n",
    "    \n",
    "  return joined_answer"
   ]
  },
  {
   "cell_type": "code",
   "execution_count": 20,
   "id": "64e47c06",
   "metadata": {},
   "outputs": [],
   "source": [
    "def rag_groq(query, prompt_template, entry_template):\n",
    "    \"\"\"\n",
    "    Run RAG with Groq GPT-OSS model.\n",
    "\n",
    "    Args:\n",
    "        query (str): User query to answer.\n",
    "        prompt_template (str): Template for constructing the full prompt.\n",
    "        entry_template (str): Template for formatting retrieved entries.\n",
    "\n",
    "    Returns:\n",
    "        str: Model-generated answer.\n",
    "    \"\"\"\n",
    "    search_results = multi_stage_search(query)\n",
    "    search_results_list = []\n",
    "\n",
    "    for i in search_results.points:\n",
    "\n",
    "        search_results_list.append(i.payload)\n",
    "\n",
    "    prompt = build_prompt(query, search_results_list, prompt_template, entry_template)\n",
    "    answer = gpt_oss_answer(prompt)\n",
    "    \n",
    "    return answer"
   ]
  },
  {
   "cell_type": "code",
   "execution_count": 21,
   "id": "32a92e0c",
   "metadata": {},
   "outputs": [
    {
     "name": "stdout",
     "output_type": "stream",
     "text": [
      "**Plants that are confirmed toxic in the context above**\n",
      "\n",
      "| Plant | Toxic parts & substances | Pets/people at risk |\n",
      "|------|------------------------|--------------------|\n",
      "| **Philodendron hederaceum** | Calcium oxalate crystals in all parts; toxic when ingested in large amounts. | Causes oral irritation, swelling, vomiting, and can deposit crystals in kidneys. |\n",
      "| **Anthurium clarinervium** | Insoluble calcium oxalate crystals in every part (roots, stems, leaves, flowers, seeds). | Can cause oral irritation, pain, swelling, excessive drooling, vomiting and difficulty swallowing in cats, dogs, and horses. |\n",
      "| **Jatropha podagrica** | All parts, especially seeds, contain purgative oil and toxalbumin (curcin), similar to ricin. | Highly toxic – ingestion can be fatal. |\n",
      "| **Kalanchoe daigremontiana** | All parts contain the steroid toxin *daigremontianin*. | Toxic to animals and humans. |\n",
      "\n",
      "**Plants with uncertain or unconfirmed toxicity**\n",
      "\n",
      "| Plant | Status |\n",
      "|------|-------|\n",
      "| **Crassula ovata** (jade plant) | Some sources claim it is mildly toxic to horses, cats, dogs, and can cause mild skin irritation in humans, but these claims remain unproven. |\n",
      "\n",
      "**Bottom line:** If you have pets (cats, dogs, horses) or small children, keep the four listed plants (Philodendron hederaceum, Anthurium clarinervium, Jatropha podagrica, and Kalanchoe daigremontiana) out of reach. For Crassula ovata, monitor for any reactions if you suspect exposure, but the evidence for toxicity is not definitive.\n"
     ]
    }
   ],
   "source": [
    "question = \"What plants are toxic?\"\n",
    "answer = rag_groq(question, prompt_template1, entry_template1)\n",
    "print(answer)"
   ]
  },
  {
   "cell_type": "code",
   "execution_count": 23,
   "id": "fedf0eab",
   "metadata": {},
   "outputs": [
    {
     "name": "stdout",
     "output_type": "stream",
     "text": [
      "You are a knowledgeable and friendly plant specialist.\n",
      "Your expertise covers houseplants, their care, and toxicity.\n",
      "\n",
      "Answer the QUESTION using only the information provided in CONTEXT. \n",
      "If the CONTEXT does not contain the answer, say so clearly. \n",
      "Do not add outside knowledge or assumptions. \n",
      "Keep your answer clear, accurate, and concise.\n",
      "\n",
      "QUESTION: What plants are toxic?\n",
      "\n",
      "CONTEXT:\n",
      "Plant: Philodendron hederaceum\n",
      "Summary: Philodendron hederaceum,  the heartleaf philodendron (syn. Philodendron scandens) is a species of flowering plant in the family Araceae, native to Central America and the Caribbean which is common in the houseplant trade. Philodendron hederaceum var. hederaceum, the \"velvet philodendron,\" is a subspecies which is in the houseplant trade under its previous name of Philodendron micans. While toxic under certain conditions, it is also under current review for numerous health benefits.\n",
      "Cultivation: No data available\n",
      "Toxicity: Parts of the plant are known to contain calcium oxalate crystals in varying concentrations. When ingested in large quantities, P. hederaceum cannot be properly digested. These calcium oxalate crystals are deposited in organs such as the kidneys, and can cause cardiac-related issues in humans  Although the plant is known to be toxic to mice and rats, the current literature is conflicting with regards to its toxicity in cats.\n",
      "Although Philodendron species can be harmful if ingested, they also have a reputation of being a source of potential therapeutic applications for medical research. This reputation is due to the presence of terpenoids and flavonoids, natural compounds that are of interest because of their biological abilities in acting as an antioxidant, anti-inflammatory, and disease preventative.\n",
      "According to the American Society for the Prevention of Cruelty to Animals, Philodendron hederaceum can cause oral irritation, a painful and swollen mouth, lips, and tongue, drooling, vomiting (except in horses), and difficulty swallowing in animals.\n",
      "\n",
      "Plant: Anthurium clarinervium\n",
      "Summary: Anthurium (; Schott, 1829) is a genus of about 1,000 species of flowering plants, the largest genus of the arum family, Araceae. General common names include anthurium, tailflower, flamingo flower, pigtail plant, and laceleaf.\n",
      "The genus is native to the Americas, where it is distributed from northern Mexico to northern Argentina and parts of the Caribbean.\n",
      "\n",
      "\n",
      "Cultivation: Like other aroids, many species of Anthurium plant can be grown as houseplants, or outdoors in mild climates in shady spots, including Anthurium crystallinum and Anthurium clarinervium with its large, velvety, dark green leaves and silvery white venation. Many hybrids are derived from Anthurium andraeanum or Anthurium scherzerianum because of their colorful spathes. They thrive in moist soils with high organic matter. In milder climates the plants can be grown in pots of soil. Indoors plants thrive at temperatures of 16–22 °C (61–72 °F) and at lower light than other house plants. Wiping the leaves off with water will remove any dust and insects. Plants in pots with good root systems will benefit from a weak fertilizer solution every other week.  In the case of vining or climbing Anthuriums, the plants benefit from being provided with a totem to climb.\n",
      "Toxicity: All plants within the Anthurium genus are toxic to cats, dogs, and even horses. Each part of the plant, including the root, stems, leaves, flowers, and seeds, poses a risk of toxicity. The plant contains insoluble calcium oxalate crystals, which can cause oral irritation, pain, swelling, excessive drooling, vomiting, and difficulty swallowing. Keeping these plants away from your pets (and equines) is the best way to prevent a medical emergency.\n",
      "\n",
      "Plant: Crassula ovata\n",
      "Summary: Crassula ovata, commonly known as jade plant, lucky plant, money plant or money tree, is a succulent plant with small pink or white flowers that is native to the KwaZulu-Natal and Eastern Cape provinces of South Africa, and Mozambique; it is common as a houseplant worldwide. Much of its popularity stems from the low levels of care needed; the jade plant requires little water and can survive in most indoor conditions. It is sometimes referred to as the money tree; however, Pachira aquatica also has this nickname.\n",
      "\n",
      "\n",
      "Cultivation: As a succulent, Crassula ovata requires little water in the summer and even less in the winter. It is susceptible to overwatering, especially during the cold season. Watering excessively can cause leaf fall and root rot. However, a lack of water can also damage it. It should be grown in a porous substrate with good drainage, which will vary depending on the climate it is grown in. It requires four to six hours of direct sun or medium shade exposures with bright light per day. In regions with mild weather it can withstand some light frost provided that the substrate is kept dry.\n",
      "C. ovata may display a red tinge around its leaves when grown in bright sunlight. In more extreme cases the green colour of the plant is lost and may be replaced by yellow. This is caused by the jade plant making pigments such as carotenoids to protect it from harsh sunlight and ultraviolet rays. The plant also flowers in the winter, particularly during a cooler, darker, dry spell. C. ovata is sometimes attacked by mealybugs, a common nuisance of the succulents.\n",
      "Toxicity: Some sources claim that some species from the Crassulaceae family, including the jade plant, are toxic to horses, cats and dogs, as well as mildly toxic to humans with skin contact, but such claims remain unproven. Crassula ovata is known to be used as medicinal plant in some regions.\n",
      "\n",
      "Plant: Jatropha podagrica\n",
      "Summary: Jatropha podagrica is a species of flowering, caudiciform succulent plant in the spurge family, Euphorbiaceae, aligning it closely with related genera such as Croton, Euphorbia and Ricinus (castor bean), among others. It is native to the neotropics of Central America and southern Mexico, but is grown as an ornamental plant in many parts of the world due to its unusual appearance and mature caudex development. Common names for the species include gout-plant, gout-stalk, Guatemalan rhubarb, coral-plant, Buddha-belly plant, purging-nut, physic-nut, goutystalk nettlespurge, Australian bottleplant (a geographical misnomer) and tartogo.\n",
      "Cultivation: The swollen caudex, showy leaves, and colourful flowers make J. podagrica an attractive ornamental, and it is grown as an indoor plant in many parts of the world.\n",
      "Toxicity: All parts of the plant are considered toxic, in particular the seeds. The main toxins are a purgative oil and a phytotoxin or toxalbumin (curcin) similar to ricin in Ricinis.\n",
      "\n",
      "Plant: Kalanchoe daigremontiana\n",
      "Summary: Kalanchoe daigremontiana, formerly known as Bryophyllum daigremontianum and commonly called mother of thousands, alligator plant or Mexican hat plant, is a succulent plant native to Madagascar. Like other members of Bryophyllum (now included in the genus Kalanchoe), it can propagate vegetatively from plantlets that develop on its leaf margins, as well as through upshoots from lateral roots, and seeds. All parts of this species contain a very toxic steroid known as daigremontianin.\n",
      "It is often confused with Kalanchoe laetivirens, Kalanchoe delagoensis and Kalanchoe × houghtonii. The leaves of Kalanchoe laetivirens are completely green, while Kalanchoe daigremontiana has bands or spots on the back of leaves. The leaves of Kalanchoe delagoensis are linear, while Kalanchoe daigremontiana has lanceolate, oblong, ovate or triangular leaves. Kalanchoe × houghtonii is a hybrid between Kalanchoe daigremontiana and Kalanchoe delagoensis, therefore has characteristics in between; its leaves are narrower than those of Kalanchoe daigremontiana and its leaf base is attenuate, cuneate to weakly cordate or auriculate, while Kalanchoe daigremontiana has strongly cordate to auriculate or even peltate leaves.\n",
      "\n",
      "\n",
      "Cultivation: No data available\n",
      "Toxicity: No data available\n"
     ]
    }
   ],
   "source": [
    "query = \"What plants are toxic?\"\n",
    "search_results = multi_stage_search(query)\n",
    "search_results_list = []\n",
    "for i in search_results.points:\n",
    "    search_results_list.append(i.payload)\n",
    "prompt = build_prompt(query, search_results_list, prompt_template2, entry_template2)\n",
    "\n",
    "print(prompt)"
   ]
  },
  {
   "cell_type": "markdown",
   "id": "348bf179",
   "metadata": {},
   "source": [
    "## LLM as a judge prompt"
   ]
  },
  {
   "cell_type": "code",
   "execution_count": 24,
   "id": "905114b5",
   "metadata": {},
   "outputs": [],
   "source": [
    "llm_judge_prompt = \"\"\"\n",
    "You are an expert evaluator for a RAG system.\n",
    "Your task is to analyze the relevance of the generated answer to the given question.\n",
    "Based on the relevance of the generated answer, you will classify it\n",
    "as \"NON_RELEVANT\", \"PARTLY_RELEVANT\", or \"RELEVANT\".\n",
    "\n",
    "Here is the data for evaluation:\n",
    "\n",
    "Question: {question}\n",
    "Generated Answer: {answer_llm}\n",
    "\n",
    "Please analyze the content and context of the generated answer in relation to the question\n",
    "and provide your evaluation in parsable JSON without using code blocks:\n",
    "\n",
    "{{\n",
    "  \"Relevance\": \"NON_RELEVANT\" | \"PARTLY_RELEVANT\" | \"RELEVANT\",\n",
    "  \"Explanation\": \"[Provide a brief explanation for your evaluation]\"\n",
    "}}\n",
    "\"\"\".strip()"
   ]
  },
  {
   "cell_type": "code",
   "execution_count": 25,
   "id": "61381f63",
   "metadata": {},
   "outputs": [
    {
     "name": "stdout",
     "output_type": "stream",
     "text": [
      "You are an expert evaluator for a RAG system.\n",
      "Your task is to analyze the relevance of the generated answer to the given question.\n",
      "Based on the relevance of the generated answer, you will classify it\n",
      "as \"NON_RELEVANT\", \"PARTLY_RELEVANT\", or \"RELEVANT\".\n",
      "\n",
      "Here is the data for evaluation:\n",
      "\n",
      "Question: What plants are toxic?\n",
      "Generated Answer: **Plants that are confirmed toxic in the context above**\n",
      "\n",
      "| Plant | Toxic parts & substances | Pets/people at risk |\n",
      "|------|------------------------|--------------------|\n",
      "| **Philodendron hederaceum** | Calcium oxalate crystals in all parts; toxic when ingested in large amounts. | Causes oral irritation, swelling, vomiting, and can deposit crystals in kidneys. |\n",
      "| **Anthurium clarinervium** | Insoluble calcium oxalate crystals in every part (roots, stems, leaves, flowers, seeds). | Can cause oral irritation, pain, swelling, excessive drooling, vomiting and difficulty swallowing in cats, dogs, and horses. |\n",
      "| **Jatropha podagrica** | All parts, especially seeds, contain purgative oil and toxalbumin (curcin), similar to ricin. | Highly toxic – ingestion can be fatal. |\n",
      "| **Kalanchoe daigremontiana** | All parts contain the steroid toxin *daigremontianin*. | Toxic to animals and humans. |\n",
      "\n",
      "**Plants with uncertain or unconfirmed toxicity**\n",
      "\n",
      "| Plant | Status |\n",
      "|------|-------|\n",
      "| **Crassula ovata** (jade plant) | Some sources claim it is mildly toxic to horses, cats, dogs, and can cause mild skin irritation in humans, but these claims remain unproven. |\n",
      "\n",
      "**Bottom line:** If you have pets (cats, dogs, horses) or small children, keep the four listed plants (Philodendron hederaceum, Anthurium clarinervium, Jatropha podagrica, and Kalanchoe daigremontiana) out of reach. For Crassula ovata, monitor for any reactions if you suspect exposure, but the evidence for toxicity is not definitive.\n",
      "\n",
      "Please analyze the content and context of the generated answer in relation to the question\n",
      "and provide your evaluation in parsable JSON without using code blocks:\n",
      "\n",
      "{\n",
      "  \"Relevance\": \"NON_RELEVANT\" | \"PARTLY_RELEVANT\" | \"RELEVANT\",\n",
      "  \"Explanation\": \"[Provide a brief explanation for your evaluation]\"\n",
      "}\n"
     ]
    }
   ],
   "source": [
    "prompt = llm_judge_prompt.format(question=question, answer_llm=answer)\n",
    "print(prompt)"
   ]
  },
  {
   "cell_type": "markdown",
   "id": "d2fc747c",
   "metadata": {},
   "source": [
    "## GPT-OSS evaluation"
   ]
  },
  {
   "cell_type": "code",
   "execution_count": 27,
   "id": "1f740ae0",
   "metadata": {},
   "outputs": [],
   "source": [
    "evaluations = []"
   ]
  },
  {
   "cell_type": "code",
   "execution_count": null,
   "id": "19d1aa77",
   "metadata": {},
   "outputs": [
    {
     "data": {
      "application/vnd.jupyter.widget-view+json": {
       "model_id": "85f1d8010d0b41fbbd103d27b37b3496",
       "version_major": 2,
       "version_minor": 0
      },
      "text/plain": [
       "  0%|          | 0/75 [00:00<?, ?it/s]"
      ]
     },
     "metadata": {},
     "output_type": "display_data"
    }
   ],
   "source": [
    "for record in tqdm(ground_truth_sample):\n",
    "    question = record['question']\n",
    "    answer_llm = rag_groq(question, prompt_template2, entry_template2) \n",
    "\n",
    "    prompt = llm_judge_prompt.format(\n",
    "        question=question,\n",
    "        answer_llm=answer_llm\n",
    "    )\n",
    "\n",
    "    evaluation = gpt_oss_answer(prompt)\n",
    "    evaluation = json.loads(evaluation)\n",
    "\n",
    "    evaluations.append((record, answer_llm, evaluation))"
   ]
  },
  {
   "cell_type": "code",
   "execution_count": 27,
   "id": "a6c9037b",
   "metadata": {},
   "outputs": [],
   "source": [
    "df_eval = pd.DataFrame(evaluations, columns=['record', 'answer', 'evaluation'])\n",
    "\n",
    "df_eval['id'] = df_eval.record.apply(lambda d: d['id'])\n",
    "df_eval['question'] = df_eval.record.apply(lambda d: d['question'])\n",
    "\n",
    "df_eval['relevance'] = df_eval.evaluation.apply(lambda d: d['Relevance'])\n",
    "df_eval['explanation'] = df_eval.evaluation.apply(lambda d: d['Explanation'])\n"
   ]
  },
  {
   "cell_type": "markdown",
   "id": "a87fabff",
   "metadata": {},
   "source": [
    "## Save gpt-oss results to csv"
   ]
  },
  {
   "cell_type": "code",
   "execution_count": null,
   "id": "7e00c515",
   "metadata": {},
   "outputs": [],
   "source": [
    "df_eval.to_csv('../data/rag_eval_gpt_oss_prompt1.csv', index=False)\n",
    "#df_eval.to_csv('../data/rag_eval_gpt_oss_prompt2.csv', index=False)"
   ]
  },
  {
   "cell_type": "code",
   "execution_count": 35,
   "id": "e1e11084",
   "metadata": {},
   "outputs": [],
   "source": [
    "df_eval.to_csv('../data/rag_eval_gpt_oss_prompt2_part3.csv', index=False)"
   ]
  },
  {
   "cell_type": "markdown",
   "id": "c80e62ad",
   "metadata": {},
   "source": [
    "## Google api"
   ]
  },
  {
   "cell_type": "code",
   "execution_count": null,
   "id": "a48e26cd",
   "metadata": {},
   "outputs": [],
   "source": [
    "def google_api(content, model=\"gemini-2.5-flash-lite\"):\n",
    "    \"\"\"\n",
    "    Generate a response from a Google Gemini model.\n",
    "\n",
    "    Args:\n",
    "        content (str): Prompt or instruction for the model.\n",
    "        model (str, optional): Model name. Defaults to \"gemini-2.5-flash-lite\".\n",
    "\n",
    "    Returns:\n",
    "        str: Generated response text.\n",
    "    \"\"\"\n",
    "    client = genai.Client(api_key=google_api_key)\n",
    "\n",
    "    response = client.models.generate_content(\n",
    "        model=model, contents=content\n",
    "    )\n",
    "    return response.text"
   ]
  },
  {
   "cell_type": "code",
   "execution_count": 30,
   "id": "1aca645e",
   "metadata": {},
   "outputs": [],
   "source": [
    "def rag_google(query, prompt_template, entry_template):\n",
    "    \"\"\"\n",
    "    Run RAG with Google Gemini model.\n",
    "\n",
    "    Args:\n",
    "        query (str): User query to answer.\n",
    "\n",
    "    Returns:\n",
    "        str: Model-generated answer.\n",
    "    \"\"\"\n",
    "    search_results = multi_stage_search(query)\n",
    "    search_results_list = []\n",
    "\n",
    "    for i in search_results.points:\n",
    "\n",
    "        search_results_list.append(i.payload)\n",
    "\n",
    "    prompt = build_prompt(query, search_results_list, prompt_template, entry_template)\n",
    "    answer = google_api(prompt)\n",
    "    \n",
    "    return answer"
   ]
  },
  {
   "cell_type": "code",
   "execution_count": 33,
   "id": "032f3ae3",
   "metadata": {},
   "outputs": [
    {
     "name": "stdout",
     "output_type": "stream",
     "text": [
      "Yes, Monstera deliciosa is moderately toxic to both cats and dogs. This is due to the presence of insoluble calcium oxalate crystals, which can cause injury to the mouth, tongue, and digestive tract. Direct contact with the plant can also cause dermatitis on a pet's skin.\n"
     ]
    }
   ],
   "source": [
    "print(rag_google(\"Is monstera toxic\", prompt_template1, entry_template1))"
   ]
  },
  {
   "cell_type": "code",
   "execution_count": 34,
   "id": "53f2ba54",
   "metadata": {},
   "outputs": [
    {
     "name": "stdout",
     "output_type": "stream",
     "text": [
      "The following plants are toxic:\n",
      "\n",
      "*   **Philodendron hederaceum:** Parts of the plant contain calcium oxalate crystals. Ingesting large quantities can lead to kidney issues and cardiac-related problems in humans. It is also toxic to mice and rats. For animals, it can cause oral irritation, a swollen mouth, lips, and tongue, drooling, vomiting, and difficulty swallowing.\n",
      "*   **Anthurium clarinervium:** All plants in the Anthurium genus are toxic to cats, dogs, and horses. All parts of the plant contain insoluble calcium oxalate crystals, which can cause oral irritation, pain, swelling, excessive drooling, vomiting, and difficulty swallowing.\n",
      "*   **Jatropha podagrica:** All parts of this plant are considered toxic, especially the seeds. The main toxins are a purgative oil and a phytotoxin (curcin).\n"
     ]
    }
   ],
   "source": [
    "print(rag_google(\"which plants are toxic\", prompt_template1, entry_template1))"
   ]
  },
  {
   "cell_type": "markdown",
   "id": "6134c464",
   "metadata": {},
   "source": [
    "## Gemini evaluation"
   ]
  },
  {
   "cell_type": "code",
   "execution_count": 62,
   "id": "74a4b7f1",
   "metadata": {},
   "outputs": [],
   "source": [
    "evaluations = []"
   ]
  },
  {
   "cell_type": "code",
   "execution_count": null,
   "id": "5892ec9f",
   "metadata": {},
   "outputs": [
    {
     "data": {
      "application/vnd.jupyter.widget-view+json": {
       "model_id": "317ced0ee8834b819c17d1255799e22c",
       "version_major": 2,
       "version_minor": 0
      },
      "text/plain": [
       "  0%|          | 0/200 [00:00<?, ?it/s]"
      ]
     },
     "metadata": {},
     "output_type": "display_data"
    }
   ],
   "source": [
    "for record in tqdm(ground_truth_sample):\n",
    "\n",
    "    question = record['question']\n",
    "    answer_llm = rag_google(question) \n",
    "\n",
    "    prompt = llm_judge_prompt.format(\n",
    "        question=question,\n",
    "        answer_llm=answer_llm\n",
    "    )\n",
    "    #evaluate using groq!\n",
    "    evaluation = gpt_oss_answer(prompt)\n",
    "    evaluation = json.loads(evaluation)\n",
    "\n",
    "    evaluations.append((record, answer_llm, evaluation))\n",
    "    #for TPM (tokens per minute) limits\n",
    "    time.sleep(5)"
   ]
  },
  {
   "cell_type": "code",
   "execution_count": null,
   "id": "1c52d2c6",
   "metadata": {},
   "outputs": [],
   "source": [
    "df_eval = pd.DataFrame(evaluations, columns=['record', 'answer', 'evaluation'])\n",
    "\n",
    "df_eval['id'] = df_eval.record.apply(lambda d: d['id'])\n",
    "df_eval['question'] = df_eval.record.apply(lambda d: d['question'])\n",
    "\n",
    "df_eval['relevance'] = df_eval.evaluation.apply(lambda d: d['Relevance'])\n",
    "df_eval['explanation'] = df_eval.evaluation.apply(lambda d: d['Explanation'])"
   ]
  },
  {
   "cell_type": "markdown",
   "id": "70271bd9",
   "metadata": {},
   "source": [
    "## Summary"
   ]
  },
  {
   "cell_type": "code",
   "execution_count": 1,
   "id": "3080f853",
   "metadata": {},
   "outputs": [],
   "source": [
    "gpt_oss_prompt1 = pd.read_csv('../data/rag_eval_gpt_oss_prompt1.csv')\n",
    "gpt_oss_prompt2 = pd.read_csv('../data/rag_eval_gpt_oss_prompt2.csv')\n",
    "gemini_flash_2_5_lite_prompt1 = pd.read_csv('../data/rag_eval_gemini_flash_2_5_lite_prompt1.csv')\n",
    "gemini_flash_2_5_lite_prompt2 = pd.read_csv('../data/rag_eval_gemini_flash_2_5_lite_prompt2.csv')"
   ]
  },
  {
   "cell_type": "code",
   "execution_count": 9,
   "id": "e63afc62",
   "metadata": {},
   "outputs": [
    {
     "name": "stdout",
     "output_type": "stream",
     "text": [
      "GPT OSS PROMPT1 (200, 7)\n",
      "relevance\n",
      "RELEVANT           0.905\n",
      "PARTLY_RELEVANT    0.085\n",
      "NON_RELEVANT       0.010\n",
      "Name: proportion, dtype: float64\n",
      "--------------------------------------------------\n",
      "GPT OSS PROMPT2 (200, 7)\n",
      "relevance\n",
      "RELEVANT           0.83\n",
      "PARTLY_RELEVANT    0.13\n",
      "NON_RELEVANT       0.04\n",
      "Name: proportion, dtype: float64\n",
      "--------------------------------------------------\n",
      "GEMINI FLASH 2.5 LITE PROMPT1 (200, 7)\n",
      "relevance\n",
      "RELEVANT           0.705\n",
      "PARTLY_RELEVANT    0.255\n",
      "NON_RELEVANT       0.040\n",
      "Name: proportion, dtype: float64\n",
      "--------------------------------------------------\n",
      "GEMINI FLASH 2.5 LITE PROMPT2 (200, 7)\n",
      "relevance\n",
      "RELEVANT           0.67\n",
      "PARTLY_RELEVANT    0.23\n",
      "NON_RELEVANT       0.10\n",
      "Name: proportion, dtype: float64\n"
     ]
    }
   ],
   "source": [
    "print(\"GPT OSS PROMPT1\", gpt_oss_prompt1.shape)\n",
    "print(gpt_oss_prompt1.relevance.value_counts(normalize=True))\n",
    "print(\"--------------------------------------------------\")\n",
    "print(\"GPT OSS PROMPT2\", gpt_oss_prompt2.shape)\n",
    "print(gpt_oss_prompt2.relevance.value_counts(normalize=True))\n",
    "print(\"--------------------------------------------------\")\n",
    "print(\"GEMINI FLASH 2.5 LITE PROMPT1\", gemini_flash_2_5_lite_prompt1.shape)\n",
    "print(gemini_flash_2_5_lite_prompt1.relevance.value_counts(normalize=True))\n",
    "print(\"--------------------------------------------------\")\n",
    "print(\"GEMINI FLASH 2.5 LITE PROMPT2\", gemini_flash_2_5_lite_prompt2.shape)\n",
    "print(gemini_flash_2_5_lite_prompt2.relevance.value_counts(normalize=True))"
   ]
  },
  {
   "cell_type": "code",
   "execution_count": 7,
   "id": "5c8d12da",
   "metadata": {},
   "outputs": [
    {
     "name": "stdout",
     "output_type": "stream",
     "text": [
      "['In which regions is Jatropha podagrica commonly cultivated as an indoor plant, despite its native habitat being Central America and southern Mexico?', 'What are the common names associated with Dracaena pethera?']\n"
     ]
    }
   ],
   "source": [
    "print(gpt_oss_prompt1[gpt_oss_prompt1.relevance == 'NON_RELEVANT']['question'].to_list())"
   ]
  },
  {
   "cell_type": "code",
   "execution_count": 10,
   "id": "9dbc3d64",
   "metadata": {},
   "outputs": [
    {
     "data": {
      "text/plain": [
       "['**Answer:**  \\nJatropha\\u202fpodagrica is grown as an indoor plant in **many parts of the world**.',\n",
       " 'Dracaena\\u202fpethera is commonly known as the **star sansevieria** or the **snake plant**.']"
      ]
     },
     "execution_count": 10,
     "metadata": {},
     "output_type": "execute_result"
    }
   ],
   "source": [
    "gpt_oss_prompt1[gpt_oss_prompt1.relevance == 'NON_RELEVANT']['answer'].to_list()"
   ]
  },
  {
   "cell_type": "code",
   "execution_count": 11,
   "id": "8abee8d7",
   "metadata": {},
   "outputs": [
    {
     "data": {
      "text/plain": [
       "['The generated answer does not specify any particular regions where Jatropha podagrica is cultivated indoors; it merely states that it is grown in many parts of the world, which fails to address the question about specific regions.',\n",
       " 'The answer lists common names that actually belong to other Dracaena species (e.g., snake plant, star sansevieria). Dracaena pethera does not use these names, so the answer is not relevant to the question.']"
      ]
     },
     "execution_count": 11,
     "metadata": {},
     "output_type": "execute_result"
    }
   ],
   "source": [
    "gpt_oss_prompt1[gpt_oss_prompt1.relevance == 'NON_RELEVANT']['explanation'].to_list()"
   ]
  },
  {
   "cell_type": "code",
   "execution_count": 23,
   "id": "321672a7",
   "metadata": {},
   "outputs": [
    {
     "name": "stdout",
     "output_type": "stream",
     "text": [
      "You are a knowledgeable and friendly plant specialist.\n",
      "Your expertise covers houseplants, their care, and toxicity.\n",
      "\n",
      "Answer the QUESTION using only the information provided in CONTEXT. \n",
      "If the CONTEXT does not contain the answer, say so clearly. \n",
      "Do not add outside knowledge or assumptions. \n",
      "Keep your answer clear, accurate, and concise.\n",
      "\n",
      "QUESTION: In which regions is Jatropha podagrica commonly cultivated as an indoor plant, despite its native habitat being Central America and southern Mexico?\n",
      "\n",
      "CONTEXT:\n",
      "Plant: Jatropha podagrica\n",
      "Summary: Jatropha podagrica is a species of flowering, caudiciform succulent plant in the spurge family, Euphorbiaceae, aligning it closely with related genera such as Croton, Euphorbia and Ricinus (castor bean), among others. It is native to the neotropics of Central America and southern Mexico, but is grown as an ornamental plant in many parts of the world due to its unusual appearance and mature caudex development. Common names for the species include gout-plant, gout-stalk, Guatemalan rhubarb, coral-plant, Buddha-belly plant, purging-nut, physic-nut, goutystalk nettlespurge, Australian bottleplant (a geographical misnomer) and tartogo.\n",
      "Cultivation: The swollen caudex, showy leaves, and colourful flowers make J. podagrica an attractive ornamental, and it is grown as an indoor plant in many parts of the world.\n",
      "Toxicity: All parts of the plant are considered toxic, in particular the seeds. The main toxins are a purgative oil and a phytotoxin or toxalbumin (curcin) similar to ricin in Ricinis.\n",
      "\n",
      "Plant: Guzmania lingulata\n",
      "Summary: Guzmania lingulata, the droophead tufted airplant or scarlet star, is a species of flowering plant in the family Bromeliaceae, subfamily Tillandsioideae. This evergreen epiphytic perennial is native to rainforest habitats in Central America, northern and central South America and southern Mexico. The Latin word lingulata means \"tongue-shaped\". The foliage grows in a star-shaped basal rosette culminating in an orange and red bracted inflorescence.  It is among the most commonly cultivated bromeliad types, with cultivars producing flowers in shades of maroon, red, orange, yellow or pink.\n",
      "\n",
      "\n",
      "Cultivation: No data available\n",
      "Toxicity: No data available\n",
      "\n",
      "Plant: Chamaedorea cataractarum\n",
      "Summary: Chamaedorea cataractarum, the cat palm, cascade palm, or cataract palm, is a small palm tree.  It is native to Southern Mexico and Central America.\n",
      "\n",
      "\n",
      "Cultivation: Cat palms require high light for indoor house plants. The suggested minimum temperature is 4.5 °C (40.1 °F). They are particularly susceptible to dry soil, and water must be applied regularly. Fertilizer should be applied every one or two months.\n",
      "It is grown as a garden plant in tropical and subtropical regions and climates.\n",
      "Toxicity: No data available\n",
      "\n",
      "Plant: Dieffenbachia seguine\n",
      "Summary: Dieffenbachia seguine, widely known as dumbcane, as well as leopard lily or tuftroot, is a species of Dieffenbachia, a flowering aroid plant of the family Araceae (the arums). It is native to the neotropical realm of the Americas, from extreme southern Mexico and Belize and much of Central America, as well as the northern half of South America (it is typically absent in Argentina, Chile, Paraguay and Uruguay). It is found on many Caribbean islands and territories, including Cuba, Grand Bahama, Grenada, Guadeloupe, Hispaniola, Îles des Saintes, Jamaica, Martinique, Puerto Rico, Saba, Saint Kitts and Trinidad and Tobago. D. seguine is also found on the Galápagos islands of Santa Cruz and San Cristóbal, where it was likely introduced by humans.\n",
      "Cultivation: Dieffenbachia seguine is cultivated as an ornamental plant in temperate shade gardens and as a potted house plant. Cultivars emphasize different patterns of variegation.\n",
      "Toxicity: No data available\n",
      "\n",
      "Plant: Pilea peperomioides\n",
      "Summary: Pilea peperomioides (), the Chinese money plant, UFO plant, pancake plant, lefse plant or missionary plant, is a species of flowering plant in the nettle family Urticaceae, native to Yunnan and Sichuan provinces in southern China.\n",
      "Cultivation: In temperate regions, P. peperomioides is treated as a houseplant, with cultivation recommended at a minimum temperature anywhere from 13 °C (55 °F) to 5 °C (41 °F). However, in its native range, the plant tolerates periods near or below freezing.  Thus the plant could be kept in unheated indoor areas or even outdoors in temperate climates; the foliage may be killed back by frost, but regrows in spring.  Wessel Marais, the Kew Gardens botanist who determined the identity of the plant in the 1980s, later grew the plant outdoors in Cazillac, France.  He reported it surviving for 6 or 7 years with temperatures as low as −9 °C (16 °F), noting that \"the stems above ground are killed but it comes again from below ground-level, so deep planting should do the trick\".\n",
      "P. peperomioides is propagated from plantlets that sprout on the trunk of the parent plant (these are called offshoots) or from underground shoots (called rhizomes). These offshoots are often passed on as a lucky plant (\"lucky thaler\") or friendship plant. Since constant temperatures and high humidity have a positive effect on plant growth, this plant species is suitable for planting terrariums.\n",
      "Although the plant is endangered in its native habitat, it is among the most popular houseplants today. It is in high demand because it is slim, easy to grow, and tolerates dry environments. The plant is readily available in retail greenhouses, which in turn are supplied by industrial-scale farming enterprises.\n",
      "This species has gained the Royal Horticultural Society's Award of Garden Merit.\n",
      "There are three different cultivars which have appeared in the last few years “Sugar”, “White Splash” and “Mojito.”\n",
      "Toxicity: No data available\n"
     ]
    }
   ],
   "source": [
    "query='In which regions is Jatropha podagrica commonly cultivated as an indoor plant, despite its native habitat being Central America and southern Mexico?'\n",
    "search_results = multi_stage_search(query)\n",
    "search_results_list = []\n",
    "for i in search_results.points:\n",
    "        search_results_list.append(i.payload)\n",
    "prompt = build_prompt(query, search_results_list, prompt_template2, entry_template2)\n",
    "print(prompt)"
   ]
  },
  {
   "cell_type": "code",
   "execution_count": 24,
   "id": "7b81e108",
   "metadata": {},
   "outputs": [
    {
     "name": "stdout",
     "output_type": "stream",
     "text": [
      "You are a knowledgeable and friendly plant specialist.\n",
      "Your expertise covers houseplants, their care, and toxicity.\n",
      "\n",
      "Answer the QUESTION using only the information provided in CONTEXT. \n",
      "If the CONTEXT does not contain the answer, say so clearly. \n",
      "Do not add outside knowledge or assumptions. \n",
      "Keep your answer clear, accurate, and concise.\n",
      "\n",
      "QUESTION: What are the common names associated with Dracaena pethera?\n",
      "\n",
      "CONTEXT:\n",
      "Plant: Dracaena pethera\n",
      "Summary: Dracaena pethera, synonym Sansevieria kirkii, also known as the star sansevieria or the snake plant, is a succulent plant native to Tanzania and the surrounding region in East Africa.\n",
      "Cultivation: No data available\n",
      "Toxicity: No data available\n",
      "\n",
      "Plant: Dracaena reflexa\n",
      "Summary: Dracaena reflexa (commonly called song of India or song of Jamaica) is a tree native to Mozambique, Madagascar, Mauritius, and other nearby islands of the Indian Ocean. It is widely grown as an ornamental plant and houseplant, valued for its richly coloured, evergreen leaves, and thick, irregular stems.\n",
      "Cultivation: Dracaena reflexa is a popular ornamental plant, both in the landscape and the home. It can be enjoyed as a specimen plant, accent, or pruned to create a border. Several cultivars have been selected, particularly variegated clones with cream and yellow-green margins. It performs well as a houseplant, tolerating infrequent waterings. It prefers bright, filtered light, without direct sun exposure, restricted outdoors to zones 10–11. It has average water needs and should be fertilized bi-weekly when actively growing. Although it can survive in relatively low light levels, the plant may grow spindly if given insufficient light. When grown indoors, temperatures of 18 to 25 °C (64 to 77 °F) should be maintained. It can be propagated via herbaceous stem cuttings.\n",
      "The cultivar Dracaena reflexa 'Variegata'  has gained the Royal Horticultural Society's Award of Garden Merit. (confirmed 2017)\n",
      "Traditional medicine practitioners of Madagascar have long believed Dracaena reflexa to cure malarial symptoms, poisoning, dysentery, diarrhea, dysmenorrhea, and to be useful as an antipyretic and hemostatic agent. The leaves and bark are mixed with parts of a number of other native plants and mixed into herbal teas. Its effectiveness in any such treatment remains unproven.\n",
      "\n",
      "The fruit of D. reflexa is also important to the diet of the Malagasy black-and-white ruffed lemur (Varecia variegata variegata). The Frégate beetle (Polposipus herculeanus), an endangered species endemic to Frégate Island (Seychelles), is also known to associate with this plant.\n",
      "Toxicity: No data available\n",
      "\n",
      "Plant: Dracaena masoniana\n",
      "Summary: Dracaena masoniana, synonym Sansevieria masoniana, is a species of Dracaena native to Africa and originally collected in the Democratic Republic of the Congo. It was initially known in cultivation under the cultivar name 'Mason Congo'. Commonly grown as a houseplant for its striking foliage, it can survive in bright filtered light or shade and with infrequent watering. Often grown as a single large, stiff leaf in pots, the plant's other common names include \"whale fin\" or \"shark's fin\".\n",
      "Cultivation: No data available\n",
      "Toxicity: No data available\n",
      "\n",
      "Plant: Dracaena angolensis\n",
      "Summary: Dracaena angolensis (synonym Sansevieria cylindrica), commonly known as African spear or the spear sansevieria, is a succulent plant native to Angola in Southern Africa. For years, it was placed within the genus Sansevieria (snake-plants), a specific name which is still used synonymously by some; in the 21st century, Sansevieria became part of Dracaena (dragon-trees), after improved testing methods, physical comparisons, and other analyses found sufficient commonalities between the two genera to warrant subsumption.\n",
      "The genus Dracaena is a part of the Asparagaceae (asparagus family)—i.e., they are closely aligned with and related to such groups as the Asparagus, Agave, Beaucarnea (ponytail \"palms\"), Chlorophytum (spider-plants), Camassia, Dasylirion (sotols), Hesperaloe (Texan or red yuccas) and Yucca (Joshua trees).\n",
      "Cultivation: The species is drought-tolerant and in cultivation requires water only about once every other week during the growing season. The species can be watered once a month during the winter months. The species was described by Wenceslas Bojer in 1837. Dracaena angolensis (under the synonym Sansevieria cylindrica) received its common name from a competition in a Dutch national newspaper. It is popular as an ornamental plant as it is easy to culture and take care of in a home if given bright sunlight and other required resources.  In Brazil, where it is known as lança de São Jorge (\"St. George's spear\"), it is grown outside houses to ward off evil that might harm the home. The plant plays an important part in the Afro-Brazilian syncretic religion Umbanda, representing the orisha Ogum, as Ogum is syncretized with St. George.\n",
      "Toxicity: No data available\n",
      "\n",
      "Plant: Dracaena sanderiana\n",
      "Summary: Dracaena sanderiana is a species of flowering plant in the family Asparagaceae, native to Central Africa. It was named after the German–English gardener Henry Frederick Conrad Sander (1847–1920). The plant is commonly marketed as \"lucky bamboo,\" which has become one of its common names, although it is not a species of bamboo.\n",
      "Cultivation: Dracaena sanderiana and its related varieties are popular houseplants. It is a suitable plant for confined spaces, and it does very well in indirect sunlight or partial shade as direct sunlight often causes its leaves to burn or yellow. The ideal temperature range for D. sanderiana is from 16 to 27 °C (61 to 81 °F). It requires average warmth, adequate light, and regular watering with dry periods in between if planted in soil. It tolerates dry air, but because it is a tropical plant, it does best in higher humidity areas or when given regular mistings. When planted indoors, it stays a smaller, more compact size while growing upwards, leading to its bamboo-like appearance. In contrast, if planted in the ground, it loses its bamboo-like look and it would fill with a leaf-like shape like other dragon trees. When it comes to light, lucky bamboo prefers bright, filtered sunlight, such as what is found under a rainforest canopy. Avoid direct sunlight as it will scorch the leaves. It can be propagated by cutting a part of the stem just above a node (the \"rings\" around the plant's stem from which offshoots grow). Cuttings can be made year round.\n",
      "Toxicity: No data available\n"
     ]
    }
   ],
   "source": [
    "query='What are the common names associated with Dracaena pethera?'\n",
    "search_results = multi_stage_search(query)\n",
    "search_results_list = []\n",
    "for i in search_results.points:\n",
    "        search_results_list.append(i.payload)\n",
    "prompt = build_prompt(query, search_results_list, prompt_template2, entry_template2)\n",
    "print(prompt)"
   ]
  },
  {
   "cell_type": "code",
   "execution_count": null,
   "id": "534e8d22",
   "metadata": {},
   "outputs": [],
   "source": [
    "##comment\n",
    "#actually non relevant answers are correct based on the context.\n",
    "# I notce that sometimes, the model answersthe question based on its own knowledge (if there is lack of information in the context)\n",
    "# but it is not a problem in my case\n"
   ]
  },
  {
   "cell_type": "code",
   "execution_count": null,
   "id": "474f0c00",
   "metadata": {},
   "outputs": [
    {
     "name": "stdout",
     "output_type": "stream",
     "text": [
      "['What type of environment does the scalloped laceleaf thrive in?', 'What characteristics make the foliage of Begonia venosa striking?', 'How is the Moon Cactus typically propagated or cultivated for home gardening?', 'What unique characteristics define the family Didymochlaenaceae?', 'Is Philodendron gigas known for producing flowers?', 'What should I know about the growth habit of Campanula isophylla?', 'Can you explain why Monstera adansonii is also referred to as the Swiss cheese plant?', 'What type of environment is recommended for growing this species of plant?']\n"
     ]
    }
   ],
   "source": [
    "print(gpt_oss_prompt2[gpt_oss_prompt2.relevance == 'NON_RELEVANT']['question'].to_list())"
   ]
  },
  {
   "cell_type": "code",
   "execution_count": 26,
   "id": "c9f51c08",
   "metadata": {},
   "outputs": [
    {
     "name": "stdout",
     "output_type": "stream",
     "text": [
      "['The context does not provide specific information about the preferred environment for Anthurium\\u202fcrenatum (the scalloped laceleaf). Therefore, I cannot say what type of environment it thrives in.', 'The provided context does not include any specific details about what makes the foliage of Begonia\\u202fvenosa striking.', 'I’m sorry, but the provided context does not contain information on how Moon Cactus (Gymnocalycium mihanovichii) is propagated or cultivated for home gardening.', 'The context does not provide any information about the distinctive characteristics that define the family Didymochlaenaceae.', 'Yes. Philodendron gigas is described in the context as a species of *flowering plant* in the family Araceae, meaning it produces flowers.', 'I’m sorry, but the provided context does not contain any information about the growth habit of **Campanula isophylla**.', 'Monstera\\u202fadansonii is called the **Swiss cheese plant** simply because that common name is used for it (and also for the related species Monstera\\u202fdeliciosa). The context states that “Monstera\\u202fadansonii … is a species … known as the Swiss cheese plant.”', 'The context does not specify which plant species you are referring to, so I cannot provide a specific environment recommendation. If you let me know the particular plant, I can give the appropriate details.']\n"
     ]
    }
   ],
   "source": [
    "print(gpt_oss_prompt2[gpt_oss_prompt2.relevance == 'NON_RELEVANT']['answer'].to_list())"
   ]
  },
  {
   "cell_type": "code",
   "execution_count": 28,
   "id": "0b874a2f",
   "metadata": {},
   "outputs": [
    {
     "name": "stdout",
     "output_type": "stream",
     "text": [
      "You are a knowledgeable and friendly plant specialist.\n",
      "Your expertise covers houseplants, their care, and toxicity.\n",
      "\n",
      "Answer the QUESTION using only the information provided in CONTEXT. \n",
      "If the CONTEXT does not contain the answer, say so clearly. \n",
      "Do not add outside knowledge or assumptions. \n",
      "Keep your answer clear, accurate, and concise.\n",
      "\n",
      "QUESTION: What unique characteristics define the family Didymochlaenaceae?\n",
      "\n",
      "CONTEXT:\n",
      "Plant: Didymochlaena\n",
      "Summary: Didymochlaena is a genus of ferns. In the Pteridophyte Phylogeny Group classification of 2016 (PPG I), it is the only genus in the family Didymochlaenaceae. Alternatively, the family may be placed in a very broadly defined family Polypodiaceae sensu lato as the subfamily Didymochlaenoideae.\n",
      "\n",
      "\n",
      "Cultivation: No data available\n",
      "Toxicity: No data available\n",
      "\n",
      "Plant: Kalanchoe daigremontiana\n",
      "Summary: Kalanchoe daigremontiana, formerly known as Bryophyllum daigremontianum and commonly called mother of thousands, alligator plant or Mexican hat plant, is a succulent plant native to Madagascar. Like other members of Bryophyllum (now included in the genus Kalanchoe), it can propagate vegetatively from plantlets that develop on its leaf margins, as well as through upshoots from lateral roots, and seeds. All parts of this species contain a very toxic steroid known as daigremontianin.\n",
      "It is often confused with Kalanchoe laetivirens, Kalanchoe delagoensis and Kalanchoe × houghtonii. The leaves of Kalanchoe laetivirens are completely green, while Kalanchoe daigremontiana has bands or spots on the back of leaves. The leaves of Kalanchoe delagoensis are linear, while Kalanchoe daigremontiana has lanceolate, oblong, ovate or triangular leaves. Kalanchoe × houghtonii is a hybrid between Kalanchoe daigremontiana and Kalanchoe delagoensis, therefore has characteristics in between; its leaves are narrower than those of Kalanchoe daigremontiana and its leaf base is attenuate, cuneate to weakly cordate or auriculate, while Kalanchoe daigremontiana has strongly cordate to auriculate or even peltate leaves.\n",
      "\n",
      "\n",
      "Cultivation: No data available\n",
      "Toxicity: No data available\n",
      "\n",
      "Plant: Plectranthus verticillatus\n",
      "Summary: Plectranthus verticillatus (syn. Plectranthus nummularius), Swedish ivy, Swedish begonia or whorled plectranthus is a plant in the family Lamiaceae (Labiatae), genus Plectranthus native to southern Africa. Despite its common name, it is not close to the ivy family of the genus Hedera nor is it native to Sweden.\n",
      "Cultivation: No data available\n",
      "Toxicity: No data available\n",
      "\n",
      "Plant: Campyloneurum phyllitidis\n",
      "Summary: Campyloneurum phyllitidis, commonly known as the long strap fern, is a species of fern in the family Polypodiaceae.\n",
      "Cultivation: No data available\n",
      "Toxicity: No data available\n",
      "\n",
      "Plant: Philodendron gigas\n",
      "Summary: Philodendron gigas is a species of flowering plant in the family Araceae. It is endemic to Panama, first described in  1997.\n",
      "Cultivation: No data available\n",
      "Toxicity: No data available\n"
     ]
    }
   ],
   "source": [
    "query='What unique characteristics define the family Didymochlaenaceae?'\n",
    "search_results = multi_stage_search(query)\n",
    "search_results_list = []\n",
    "for i in search_results.points:\n",
    "        search_results_list.append(i.payload)\n",
    "prompt = build_prompt(query, search_results_list, prompt_template2, entry_template2)\n",
    "print(prompt)\n"
   ]
  },
  {
   "cell_type": "code",
   "execution_count": null,
   "id": "08acde9f",
   "metadata": {},
   "outputs": [],
   "source": []
  }
 ],
 "metadata": {
  "kernelspec": {
   "display_name": "Python 3",
   "language": "python",
   "name": "python3"
  },
  "language_info": {
   "codemirror_mode": {
    "name": "ipython",
    "version": 3
   },
   "file_extension": ".py",
   "mimetype": "text/x-python",
   "name": "python",
   "nbconvert_exporter": "python",
   "pygments_lexer": "ipython3",
   "version": "3.12.1"
  }
 },
 "nbformat": 4,
 "nbformat_minor": 5
}
