{
 "cells": [
  {
   "cell_type": "markdown",
   "id": "a2d1b7d1",
   "metadata": {},
   "source": [
    "## Getting home plants data from Wikipedia"
   ]
  },
  {
   "cell_type": "markdown",
   "id": "697f9de5",
   "metadata": {},
   "source": [
    "This purpose of this code is gathering structured information about house plants from Wikipedia. It is divided into two main stages:\n",
    "\n",
    "1. Collecting Plant Names from the Category Page\n",
    "\n",
    "* The code sends a request to the Wikipedia category “House plants” page.\n",
    "\n",
    "* It uses BeautifulSoup to parse the HTML and extract the titles of all pages (plant names) listed under that category.\n",
    "\n",
    "\n",
    "The result is the foundation for the next stage.\n",
    "\n",
    "2. Retrieving Detailed Plant Information\n",
    "\n",
    "* For each plant name, the wikipedia Python library is used to fetch the plant’s Wikipedia page.\n",
    "\n",
    "* The code retrieves a short summary of the plant and searches the full page content for sections on Cultivation and Toxicity (if available) using regular expressions.\n",
    "\n",
    "\n",
    "The final result is a structured dataset containing the name, summary, cultivation details, and toxicity information for each house plant listed on Wikipedia."
   ]
  },
  {
   "cell_type": "code",
   "execution_count": 1,
   "id": "a762aa0c",
   "metadata": {},
   "outputs": [],
   "source": [
    "from bs4 import BeautifulSoup\n",
    "import numpy as np\n",
    "import pandas as pd\n",
    "import re\n",
    "import requests\n",
    "import time\n",
    "from tqdm import tqdm\n",
    "import wikipedia"
   ]
  },
  {
   "cell_type": "markdown",
   "id": "38ca4de6",
   "metadata": {},
   "source": [
    "## Getting data from Wikipedia"
   ]
  },
  {
   "cell_type": "code",
   "execution_count": 3,
   "id": "2a2af33b",
   "metadata": {},
   "outputs": [
    {
     "name": "stdout",
     "output_type": "stream",
     "text": [
      "['Adelonema wallisii', 'Adenium obesum', 'Adiantum aethiopicum', 'Adiantum capillus-veneris', 'Adiantum formosum', 'Adiantum peruvianum', 'Aechmea chantinii', 'Aechmea fasciata', 'Aglaonema', 'Aglaonema commutatum', 'Aglaonema modestum', 'Aichryson × aizoides', 'Alocasia × mortfontanensis', 'Alocasia azlanii', 'Alocasia baginda', 'Alocasia brancifolia', 'Alocasia heterophylla', 'Alocasia infernalis', 'Alocasia lauterbachiana', 'Alocasia longiloba', 'Alocasia melo', 'Alocasia micholitziana', 'Alocasia nebula', 'Alocasia nycteris', 'Alocasia portei', 'Alocasia princeps', 'Alocasia reginae', 'Alocasia reginula', 'Alocasia reversa', 'Alocasia sanderiana', 'Alocasia sarawakensis', 'Alocasia scalprum', 'Alocasia sinuata', 'Alocasia wentii', 'Alocasia zebrina', 'Angraecum sesquipedale', 'Anthurium amnicola', 'Anthurium bakeri', 'Anthurium clarinervium', 'Anthurium crenatum', 'Anthurium gracile', 'Anthurium radicans', 'Anthurium scherzerianum', 'Anthurium vittariifolium', 'Anthurium warocqueanum', 'Anthurium watermaliense', 'Aphelandra squarrosa', 'Apocissus antarctica', 'Areca catechu', 'Asparagus aethiopicus', 'Aspidistra elatior', 'Asplenium antiquum', 'Asplenium bulbiferum', 'Asplenium gracillimum', 'Asplenium nidus', 'Astrophytum asterias', 'Begonia bowerae', 'Begonia conchifolia', 'Begonia maculata', 'Begonia rex', 'Begonia taliensis', 'Begonia venosa', \"Bird's-nest fern\", 'Boea', 'Caladium praetermissum', 'Calla', 'Campanula isophylla', 'Campyloneurum phyllitidis', 'Cane begonia', 'Ceropegia woodii', 'Chamaedorea cataractarum', 'Chamaedorea elegans', 'Chamaedorea metallica', 'Chamaedorea seifrizii', 'Chlorophytum comosum', 'Cissus discolor', 'Clusia rosea', 'Codiaeum variegatum', 'Coleus scutellarioides', 'Colocasia fallax', 'Cordyline fruticosa', 'Crassula arborescens', 'Crassula muscosa', 'Crassula ovata', 'Ctenanthe burle-marxii', 'Ctenanthe lubbersiana', 'Ctenanthe oppenheimiana', 'Curcuma zedoaria', \"Curio 'Trident Blue'\", 'Curio × peregrinus', 'Cyclamen persicum', 'Cyperus alternifolius', 'Cyrtomium falcatum', 'Davallia fejeensis', 'Delosperma lehmannii', 'Didymochlaena', 'Dieffenbachia', 'Dieffenbachia seguine', 'Dioscorea elephantipes', 'Disocactus phyllanthoides', 'Dracaena angolensis', 'Dracaena arborescens', 'Dracaena bagamoyensis', 'Dracaena braunii', 'Dracaena fragrans', 'Dracaena masoniana', 'Dracaena pethera', 'Dracaena pinguicula', 'Dracaena reflexa', 'Dracaena sanderiana', 'Dracaena spathulata', 'Dracaena suffruticosa', 'Dracaena surculosa', 'Dracaena trifasciata', 'Englerarum', 'Epipremnum aureum', 'Epipremnum pinnatum', 'Euphorbia trigona', 'Excoecaria cochinchinensis', 'Fatsia japonica', 'Ficus benghalensis', 'Ficus benjamina', 'Ficus elastica', 'Ficus lyrata', 'Ficus pumila', 'Fittonia albivenis', 'Fittonia gigantea', 'Goeppertia fasciata', 'Goeppertia insignis', 'Goeppertia kegeljanii', 'Goeppertia makoyana', 'Goeppertia ornata', 'Goeppertia picturata', 'Goeppertia roseopicta', 'Goeppertia rufibarba', 'Goeppertia zebrina', 'Guzmania lingulata', 'Guzmania musaica', 'Guzmania sanguinea', 'Gymnocalycium mihanovichii', 'Gynura aurantiaca', 'Heptapleurum arboricola', 'Homalomena philippinensis', 'Hoya bella', 'Hoya carnosa', 'Hoya multiflora', 'Huernia macrocarpa', 'Hypoestes phyllostachya', 'Impatiens hawkeri', 'Jatropha podagrica', 'Justicia brandegeeana', \"Kalanchoe 'Tarantula'\", 'Kalanchoe daigremontiana', 'Kalanchoe gastonis-bonnieri', 'Kalanchoe manginii', 'Kalanchoe pinnata', 'Kishu mikan', 'Kumara plicatilis', 'Magnolia coco', 'Maranta arundinacea', 'Maranta leuconeura', 'Mimosa pudica', 'Monstera acacoyaguensis', 'Monstera acuminata', 'Monstera adansonii', 'Monstera deliciosa', 'Nephrolepis exaltata', 'Nephrolepis obliterata', 'Nephthytis', 'Oxalis triangularis', 'Pachira glabra', 'Pelargonium radens', 'Pellaea rotundifolia', 'Peperomia', 'Peperomia caperata', 'Peperomia griseoargentea', 'Peperomia obtusifolia', 'Peperomia rotundifolia', 'Peperomia serpens', 'Petrocosmea forrestii', 'Petrocosmea kerrii', 'Petrocosmea rosettifolia', 'Philodendron callosum', 'Philodendron campii', 'Philodendron domesticum', 'Philodendron elegans', 'Philodendron erubescens', 'Philodendron gigas', 'Philodendron hederaceum', 'Philodendron mexicanum', 'Philodendron tortum', 'Phoenix roebelenii', 'Phyllotaenium', 'Pilea cadierei', 'Pilea peperomioides', 'Platycerium bifurcatum', 'Platycerium superbum', 'Plectranthus verticillatus', 'Portulacaria afra']\n"
     ]
    }
   ],
   "source": [
    "# Step 1: Get HTML content\n",
    "url = \"https://en.wikipedia.org/wiki/Category:House_plants\"\n",
    "resp = requests.get(url)\n",
    "resp.raise_for_status()  # ensure request worked\n",
    "\n",
    "# Step 2: Parse with BeautifulSoup\n",
    "soup = BeautifulSoup(resp.text, \"html.parser\")\n",
    "\n",
    "# Step 3: Extract category members\n",
    "# Wikipedia category pages list entries in <div id=\"mw-pages\"> inside <a> tags\n",
    "plant_names = []\n",
    "pages_div = soup.find(\"div\", id=\"mw-pages\")\n",
    "if pages_div:\n",
    "    for link in pages_div.find_all(\"a\"):\n",
    "        title = link.get_text()\n",
    "        # skip navigation links like \"next page\"\n",
    "        if not title.lower().startswith(\"next\") and not title.lower().startswith(\"previous\"):\n",
    "            plant_names.append(title)\n",
    "\n",
    "#skip 2 first rows which are not plant names\n",
    "print(plant_names[2:])"
   ]
  },
  {
   "cell_type": "code",
   "execution_count": 4,
   "id": "8b7e2248",
   "metadata": {},
   "outputs": [],
   "source": [
    "def get_plant_data(plant_name):\n",
    "    \"\"\"\n",
    "    Fetch detailed plant information from Wikipedia.\n",
    "\n",
    "    Args:\n",
    "        plant_name (str): The name of the plant to search for.\n",
    "\n",
    "    Returns:\n",
    "        dict | None: A dictionary with the plant's name, summary, cultivation, and toxicity info,\n",
    "                     or None if the plant page cannot be retrieved.\n",
    "    \"\"\"\n",
    "    try:\n",
    "        try:\n",
    "            summary_text = wikipedia.summary(plant_name)\n",
    "            page = wikipedia.page(plant_name)\n",
    "        except wikipedia.exceptions.DisambiguationError:\n",
    "            # Retry with a more specific search term\n",
    "            refined_name = f\"{plant_name} plant\"\n",
    "            summary_text = wikipedia.summary(refined_name)\n",
    "            page = wikipedia.page(refined_name)\n",
    "            plant_name = refined_name\n",
    "\n",
    "    except wikipedia.exceptions.PageError:\n",
    "        # Page does not exist\n",
    "        print(f\"Error: '{plant_name}' page not found.\")\n",
    "        return {\n",
    "        'name': plant_name,\n",
    "        'summary': None,\n",
    "        'cultivation': None,\n",
    "        'toxicity': None\n",
    "    }\n",
    "    except Exception as e:\n",
    "        # Catch-all for other unexpected issues\n",
    "        print(f\"Unexpected error fetching '{plant_name}': {e}\")\n",
    "        return  {\n",
    "        'name': plant_name,\n",
    "        'summary': None,\n",
    "        'cultivation': None,\n",
    "        'toxicity': None\n",
    "    }\n",
    "\n",
    "    # Extract sections only if page content is available\n",
    "    cultivation_text = None\n",
    "    toxicity_text = None\n",
    "\n",
    "    if page and hasattr(page, 'content'):\n",
    "        cultivation_match = re.search(r\"==\\s*Cultivation(?:\\s+and\\s+uses)?\\s*==([\\s\\S]*?)(?=\\n==|\\Z)\", page.content, flags=re.S)\n",
    "        if cultivation_match:\n",
    "            cultivation_text = cultivation_match.group(1).strip()\n",
    "\n",
    "        toxicity_match = re.search(r\"==\\s*Toxicity\\s*==([\\s\\S]*?)(?=\\n==|\\Z)\", page.content, flags=re.S)\n",
    "        if toxicity_match:\n",
    "            toxicity_text = toxicity_match.group(1).strip()\n",
    "\n",
    "    return {\n",
    "        'name': plant_name,\n",
    "        'summary': summary_text,\n",
    "        'cultivation': cultivation_text,\n",
    "        'toxicity': toxicity_text\n",
    "    }"
   ]
  },
  {
   "cell_type": "code",
   "execution_count": 27,
   "id": "ff04dc72",
   "metadata": {},
   "outputs": [
    {
     "name": "stderr",
     "output_type": "stream",
     "text": [
      "Fetching plant details:  32%|███▏      | 63/199 [00:19<00:35,  3.88it/s]"
     ]
    },
    {
     "name": "stdout",
     "output_type": "stream",
     "text": [
      "Error: 'Bird's-nest fern' page not found.\n"
     ]
    },
    {
     "name": "stderr",
     "output_type": "stream",
     "text": [
      "/usr/local/python/3.12.1/lib/python3.12/site-packages/wikipedia/wikipedia.py:389: GuessedAtParserWarning: No parser was explicitly specified, so I'm using the best available HTML parser for this system (\"html.parser\"). This usually isn't a problem, but if you run this code on another system, or in a different virtual environment, it may use a different parser and behave differently.\n",
      "\n",
      "The code that caused this warning is on line 389 of the file /usr/local/python/3.12.1/lib/python3.12/site-packages/wikipedia/wikipedia.py. To get rid of this warning, pass the additional argument 'features=\"html.parser\"' to the BeautifulSoup constructor.\n",
      "\n",
      "  lis = BeautifulSoup(html).find_all('li')\n",
      "Fetching plant details:  87%|████████▋ | 174/199 [01:32<00:06,  3.92it/s]"
     ]
    },
    {
     "name": "stdout",
     "output_type": "stream",
     "text": [
      "Error: 'Peperomia' page not found.\n"
     ]
    },
    {
     "name": "stderr",
     "output_type": "stream",
     "text": [
      "Fetching plant details: 100%|██████████| 199/199 [01:40<00:00,  1.99it/s]\n"
     ]
    }
   ],
   "source": [
    "all_plants_details = []\n",
    "\n",
    "# Skip first 2 entries that aren't plant names\n",
    "for plant in tqdm(plant_names[2:], desc=\"Fetching plant details\"):\n",
    "    retries = 3\n",
    "    for attempt in range(retries):\n",
    "        try:\n",
    "            plant_details = get_plant_data(plant)\n",
    "            all_plants_details.append(plant_details)\n",
    "            break  # success, stop retrying\n",
    "        except ConnectionError:\n",
    "            if attempt < retries - 1:\n",
    "                print(f\"Connection error for {plant}, retrying ({attempt+1}/{retries})...\")\n",
    "                time.sleep(5)\n",
    "            else:\n",
    "                all_plants_details.append({\"name\": plant, \"error\": \"Connection failed\"})"
   ]
  },
  {
   "cell_type": "code",
   "execution_count": 28,
   "id": "bd5717a9",
   "metadata": {},
   "outputs": [
    {
     "data": {
      "text/plain": [
       "[{'name': 'Adelonema wallisii',\n",
       "  'summary': 'Adelonema wallisii (synonym Homalomena wallisii) is a species of aroid plant (family Araceae) native to Venezuela, Colombia, and Panama.\\n\\n',\n",
       "  'cultivation': None,\n",
       "  'toxicity': None},\n",
       " {'name': 'Adenium obesum',\n",
       "  'summary': 'Adenium obesum, more commonly known as a desert rose, is a poisonous species of flowering plant belonging to the tribe Nerieae of the subfamily Apocynoideae of the dogbane family, Apocynaceae. It is native to the Sahel regions south of the Sahara (from Mauritania and Senegal to Sudan), tropical and subtropical eastern and southern Africa, as well as the Arabian Peninsula. Other names for the flower include Sabi star, kudu, mock azalea, and impala lily. Adenium obesum is a popular houseplant and bonsai in temperate regions.\\n\\n',\n",
       "  'cultivation': \"Adenium obesum is a popular houseplant and bonsai in temperate regions. It requires a sunny location and a minimum indoor temperature in winter of 10 °C (50 °F). It thrives on a xeric watering regime as required by cacti. A. obesum is typically propagated by seed or stem cuttings.  The numerous hybrids are propagated mainly by grafting on to seedling rootstock.  While plants grown from seed are more likely to have the swollen caudex at a young age, with time many cutting-grown plants cannot be distinguished from seed-grown plants. Like many plants, Adenium obesum can also be propagated in vitro using plant tissue culture.\\nThis plant has gained the Royal Horticultural Society's Award of Garden Merit.\",\n",
       "  'toxicity': None},\n",
       " {'name': 'Adiantum aethiopicum',\n",
       "  'summary': 'Adiantum aethiopicum, also known as the common maidenhair fern, is a small fern of widespread distribution, occurring in Africa, Australia, Norfolk Island and New Zealand.\\nAdiantum aethiopicum was one of the many species first described by Linnaeus, in this case in his Systema naturae in 1759. The specific epithet aethiopicum in this sense was the Latin term for Africa south of the then known world, that is to say, more or less Africa south of Egypt.\\nIn South Africa the species occurs widely, though not generally profusely, mainly on moist sandstone cliffs in full shade. In the Cape Peninsula it is uncommon and grows mainly at the highest locally available altitudes, generally about 600–1,085 m (2,000–3,600 ft).\\nAdiantum aethiopicum grows in spreading clumps of fronds from 10 to 45 cm (4 to 18 in) in height. The rhizomes are wiry and branched. The fronds are horizontal and layered, or upright. They are divided into two or three and have many small wedge-shaped segments, each of which has sori along its margins underneath.\\nA common plant, often seen growing in moist areas. In Australia it is found near by creeks or in open forest, where it may form a large colony.\\nThe 1889 book \\'The Useful Native Plants of Australia’ records that \"This plant is said to possess medicinal properties, being\\nslightly astringent and emetic. It has been used in Europe in making \"Sirop de Capt\\'llaire,\" a demulcent drink, employed in\\ndiseases of the chest.\"',\n",
       "  'cultivation': 'Adiantum aethiopicum is a popular and well known ornamental plant. Propagation is from plant division or by spores. In cultivation the Maidenhair fern prefers a well-lit situation inside, but a shady place outdoors without draughts. It is suitable for terrariums and hanging baskets. It is fairly easy to grow, and will flourish in moist garden soil or potting mix.',\n",
       "  'toxicity': None},\n",
       " {'name': 'Adiantum capillus-veneris',\n",
       "  'summary': 'Adiantum capillus-veneris, the Southern maidenhair fern, black maidenhair fern, maidenhair fern, and venus hair fern,  is a species of ferns in the genus Adiantum and the family Pteridaceae with a subcosmopolitan worldwide distribution. It is cultivated as a popular garden fern and houseplant.',\n",
       "  'cultivation': 'Adiantum capillus-veneris  is cultivated and widely available around the world for planting in natural landscape native plants and traditional shade gardens, for outdoor container gardens, and commonly as an indoor houseplant.\\nAdiantum × mairisii is a winter hardy hybrid of Adiantum capillus-veneris with another species, which is likely to be one of Adiantum raddianum, Adiantum aethiopicum, or Adiantum cuneatum.\\nAs a houseplant, Adiantum capillus-veneris  requires filtered light and very humid conditions. It should be grown in soil rich in organic matter and should be watered frequently but lightly, to keep the roots damp but not drenched. The temperature should not fall below 12 °C (54 °F). It is propagated by dividing, making sure each clump has a section of rhizome.',\n",
       "  'toxicity': None},\n",
       " {'name': 'Adiantum formosum',\n",
       "  'summary': 'Adiantum formosum, known as the giant maidenhair or black stem maidenhair is a fern found in Australia and New Zealand. It was one of the many species authored by Scottish botanist Robert Brown, appearing in his 1810 work Prodromus Florae Novae Hollandiae et Insulae Van Diemen. Its species name is the Latin adjective formosus \"handsome\" or \"beautiful\".\\nAdiantum formosum is an attractive plant, with fronds up to 120 cm (48 in) high. The rhizome of this species is unusually deep, up to 60 cm (24 in) below into the earth. The stems are black and can reach 90 cm (36 in) in length, while the fronds or blades are triangular with rectangular segments. The last segment of the frond is irregular and asymmetrical, on a short stem. This maidenhair fern can grow to 2 metres (7 ft) tall. The smallest segments of the fronds are the pinnules, which are wedge-shaped, rectangular or trapezoid. They have 1–10 sori along the margins underneath.\\nAdiantum formosum is found in Queensland, and New South Wales, and into Victoria, where it is less common. It also occurs in New Zealand. It is often seen growing in moist areas or along streams usually on alluvial soils,  Adiantum formosum is generally found in rainforest or in nearby open eucalyptus forest, where it may form a large colony.\\nEasy to grow in cultivation, Adiantum formosum makes a good subject for container gardening. It appears to go dormant in cooler months and grow rapidly during the summer. A smaller, variegated form is commercially available and cultivated.\\n\\n',\n",
       "  'cultivation': None,\n",
       "  'toxicity': None}]"
      ]
     },
     "execution_count": 28,
     "metadata": {},
     "output_type": "execute_result"
    }
   ],
   "source": [
    "all_plants_details[:5]"
   ]
  },
  {
   "cell_type": "code",
   "execution_count": 29,
   "id": "23ade4d2",
   "metadata": {},
   "outputs": [],
   "source": [
    "# to csv \n",
    "df_all_plants_details = pd.DataFrame(all_plants_details)"
   ]
  },
  {
   "cell_type": "code",
   "execution_count": 30,
   "id": "978e3f54",
   "metadata": {},
   "outputs": [
    {
     "data": {
      "text/html": [
       "<div>\n",
       "<style scoped>\n",
       "    .dataframe tbody tr th:only-of-type {\n",
       "        vertical-align: middle;\n",
       "    }\n",
       "\n",
       "    .dataframe tbody tr th {\n",
       "        vertical-align: top;\n",
       "    }\n",
       "\n",
       "    .dataframe thead th {\n",
       "        text-align: right;\n",
       "    }\n",
       "</style>\n",
       "<table border=\"1\" class=\"dataframe\">\n",
       "  <thead>\n",
       "    <tr style=\"text-align: right;\">\n",
       "      <th></th>\n",
       "      <th>name</th>\n",
       "      <th>summary</th>\n",
       "      <th>cultivation</th>\n",
       "      <th>toxicity</th>\n",
       "    </tr>\n",
       "  </thead>\n",
       "  <tbody>\n",
       "    <tr>\n",
       "      <th>0</th>\n",
       "      <td>Adelonema wallisii</td>\n",
       "      <td>Adelonema wallisii (synonym Homalomena wallisi...</td>\n",
       "      <td>None</td>\n",
       "      <td>None</td>\n",
       "    </tr>\n",
       "    <tr>\n",
       "      <th>1</th>\n",
       "      <td>Adenium obesum</td>\n",
       "      <td>Adenium obesum, more commonly known as a deser...</td>\n",
       "      <td>Adenium obesum is a popular houseplant and bon...</td>\n",
       "      <td>None</td>\n",
       "    </tr>\n",
       "    <tr>\n",
       "      <th>2</th>\n",
       "      <td>Adiantum aethiopicum</td>\n",
       "      <td>Adiantum aethiopicum, also known as the common...</td>\n",
       "      <td>Adiantum aethiopicum is a popular and well kno...</td>\n",
       "      <td>None</td>\n",
       "    </tr>\n",
       "    <tr>\n",
       "      <th>3</th>\n",
       "      <td>Adiantum capillus-veneris</td>\n",
       "      <td>Adiantum capillus-veneris, the Southern maiden...</td>\n",
       "      <td>Adiantum capillus-veneris  is cultivated and w...</td>\n",
       "      <td>None</td>\n",
       "    </tr>\n",
       "    <tr>\n",
       "      <th>4</th>\n",
       "      <td>Adiantum formosum</td>\n",
       "      <td>Adiantum formosum, known as the giant maidenha...</td>\n",
       "      <td>None</td>\n",
       "      <td>None</td>\n",
       "    </tr>\n",
       "  </tbody>\n",
       "</table>\n",
       "</div>"
      ],
      "text/plain": [
       "                        name  \\\n",
       "0         Adelonema wallisii   \n",
       "1             Adenium obesum   \n",
       "2       Adiantum aethiopicum   \n",
       "3  Adiantum capillus-veneris   \n",
       "4          Adiantum formosum   \n",
       "\n",
       "                                             summary  \\\n",
       "0  Adelonema wallisii (synonym Homalomena wallisi...   \n",
       "1  Adenium obesum, more commonly known as a deser...   \n",
       "2  Adiantum aethiopicum, also known as the common...   \n",
       "3  Adiantum capillus-veneris, the Southern maiden...   \n",
       "4  Adiantum formosum, known as the giant maidenha...   \n",
       "\n",
       "                                         cultivation toxicity  \n",
       "0                                               None     None  \n",
       "1  Adenium obesum is a popular houseplant and bon...     None  \n",
       "2  Adiantum aethiopicum is a popular and well kno...     None  \n",
       "3  Adiantum capillus-veneris  is cultivated and w...     None  \n",
       "4                                               None     None  "
      ]
     },
     "execution_count": 30,
     "metadata": {},
     "output_type": "execute_result"
    }
   ],
   "source": [
    "#column error is coused by \n",
    "df_all_plants_details.head()"
   ]
  },
  {
   "cell_type": "markdown",
   "id": "004b2176",
   "metadata": {},
   "source": [
    "### Cleaning"
   ]
  },
  {
   "cell_type": "code",
   "execution_count": 31,
   "id": "43dd005e",
   "metadata": {},
   "outputs": [
    {
     "name": "stdout",
     "output_type": "stream",
     "text": [
      "DataFrame shape (199, 4)\n",
      "Plants with any data\n",
      "                 name summary cultivation toxicity\n",
      "62   Bird's-nest fern    None        None     None\n",
      "173         Peperomia    None        None     None\n",
      "---------------------\n",
      "Shape after removing empty rows (197, 4)\n"
     ]
    }
   ],
   "source": [
    "print(\"DataFrame shape\", df_all_plants_details.shape)\n",
    "print(\"Plants with any data\")\n",
    "print(df_all_plants_details[df_all_plants_details['summary'].isna() & df_all_plants_details['cultivation'].isna() & df_all_plants_details['toxicity'].isna()])\n",
    "print(\"---------------------\")\n",
    "# remove empty rows\n",
    "df_all_plants_details = df_all_plants_details[~(df_all_plants_details['summary'].isna() & df_all_plants_details['cultivation'].isna() & df_all_plants_details['toxicity'].isna())]\n",
    "print(\"Shape after removing empty rows\", df_all_plants_details.shape)"
   ]
  },
  {
   "cell_type": "code",
   "execution_count": 32,
   "id": "4a4eb289",
   "metadata": {},
   "outputs": [
    {
     "name": "stdout",
     "output_type": "stream",
     "text": [
      "                           name  \\\n",
      "0            Adelonema wallisii   \n",
      "1                Adenium obesum   \n",
      "2          Adiantum aethiopicum   \n",
      "3     Adiantum capillus-veneris   \n",
      "4             Adiantum formosum   \n",
      "..                          ...   \n",
      "192         Pilea peperomioides   \n",
      "193      Platycerium bifurcatum   \n",
      "194        Platycerium superbum   \n",
      "195  Plectranthus verticillatus   \n",
      "196           Portulacaria afra   \n",
      "\n",
      "                                               summary  \\\n",
      "0    Adelonema wallisii (synonym Homalomena wallisi...   \n",
      "1    Adenium obesum, more commonly known as a deser...   \n",
      "2    Adiantum aethiopicum, also known as the common...   \n",
      "3    Adiantum capillus-veneris, the Southern maiden...   \n",
      "4    Adiantum formosum, known as the giant maidenha...   \n",
      "..                                                 ...   \n",
      "192  Pilea peperomioides (), the Chinese money plan...   \n",
      "193  Platycerium bifurcatum, commonly known as the ...   \n",
      "194  Platycerium is a genus of about 18 fern specie...   \n",
      "195  Plectranthus verticillatus (syn. Plectranthus ...   \n",
      "196  Portulacaria afra (known as elephant bush, por...   \n",
      "\n",
      "                                           cultivation           toxicity   id  \n",
      "0                                    No data available  No data available    0  \n",
      "1    Adenium obesum is a popular houseplant and bon...  No data available    1  \n",
      "2    Adiantum aethiopicum is a popular and well kno...  No data available    2  \n",
      "3    Adiantum capillus-veneris  is cultivated and w...  No data available    3  \n",
      "4                                    No data available  No data available    4  \n",
      "..                                                 ...                ...  ...  \n",
      "192  In temperate regions, P. peperomioides is trea...  No data available  192  \n",
      "193  Platycerium bifurcatum is cultivated as an orn...  No data available  193  \n",
      "194  The species Platycerium bifurcatum and Platyce...  No data available  194  \n",
      "195                                  No data available  No data available  195  \n",
      "196  In the wilds of South Africa, large plants do ...  No data available  196  \n",
      "\n",
      "[197 rows x 5 columns]\n"
     ]
    }
   ],
   "source": [
    "# Adding an ID column\n",
    "df_all_plants_details = df_all_plants_details.reset_index(drop=True)\n",
    "df_all_plants_details['id'] = df_all_plants_details.index  # start IDs from  0\n",
    "# Replace NaN with a specific string using replace\n",
    "df_all_plants_details.replace(np.nan, 'No data available', inplace=True)\n",
    "\n",
    "print(df_all_plants_details)"
   ]
  },
  {
   "cell_type": "code",
   "execution_count": 33,
   "id": "2ef60934",
   "metadata": {},
   "outputs": [
    {
     "data": {
      "text/html": [
       "<div>\n",
       "<style scoped>\n",
       "    .dataframe tbody tr th:only-of-type {\n",
       "        vertical-align: middle;\n",
       "    }\n",
       "\n",
       "    .dataframe tbody tr th {\n",
       "        vertical-align: top;\n",
       "    }\n",
       "\n",
       "    .dataframe thead th {\n",
       "        text-align: right;\n",
       "    }\n",
       "</style>\n",
       "<table border=\"1\" class=\"dataframe\">\n",
       "  <thead>\n",
       "    <tr style=\"text-align: right;\">\n",
       "      <th></th>\n",
       "      <th>name</th>\n",
       "      <th>summary</th>\n",
       "      <th>cultivation</th>\n",
       "      <th>toxicity</th>\n",
       "      <th>id</th>\n",
       "    </tr>\n",
       "  </thead>\n",
       "  <tbody>\n",
       "    <tr>\n",
       "      <th>0</th>\n",
       "      <td>Adelonema wallisii</td>\n",
       "      <td>Adelonema wallisii (synonym Homalomena wallisi...</td>\n",
       "      <td>No data available</td>\n",
       "      <td>No data available</td>\n",
       "      <td>0</td>\n",
       "    </tr>\n",
       "    <tr>\n",
       "      <th>1</th>\n",
       "      <td>Adenium obesum</td>\n",
       "      <td>Adenium obesum, more commonly known as a deser...</td>\n",
       "      <td>Adenium obesum is a popular houseplant and bon...</td>\n",
       "      <td>No data available</td>\n",
       "      <td>1</td>\n",
       "    </tr>\n",
       "    <tr>\n",
       "      <th>2</th>\n",
       "      <td>Adiantum aethiopicum</td>\n",
       "      <td>Adiantum aethiopicum, also known as the common...</td>\n",
       "      <td>Adiantum aethiopicum is a popular and well kno...</td>\n",
       "      <td>No data available</td>\n",
       "      <td>2</td>\n",
       "    </tr>\n",
       "    <tr>\n",
       "      <th>3</th>\n",
       "      <td>Adiantum capillus-veneris</td>\n",
       "      <td>Adiantum capillus-veneris, the Southern maiden...</td>\n",
       "      <td>Adiantum capillus-veneris  is cultivated and w...</td>\n",
       "      <td>No data available</td>\n",
       "      <td>3</td>\n",
       "    </tr>\n",
       "    <tr>\n",
       "      <th>4</th>\n",
       "      <td>Adiantum formosum</td>\n",
       "      <td>Adiantum formosum, known as the giant maidenha...</td>\n",
       "      <td>No data available</td>\n",
       "      <td>No data available</td>\n",
       "      <td>4</td>\n",
       "    </tr>\n",
       "  </tbody>\n",
       "</table>\n",
       "</div>"
      ],
      "text/plain": [
       "                        name  \\\n",
       "0         Adelonema wallisii   \n",
       "1             Adenium obesum   \n",
       "2       Adiantum aethiopicum   \n",
       "3  Adiantum capillus-veneris   \n",
       "4          Adiantum formosum   \n",
       "\n",
       "                                             summary  \\\n",
       "0  Adelonema wallisii (synonym Homalomena wallisi...   \n",
       "1  Adenium obesum, more commonly known as a deser...   \n",
       "2  Adiantum aethiopicum, also known as the common...   \n",
       "3  Adiantum capillus-veneris, the Southern maiden...   \n",
       "4  Adiantum formosum, known as the giant maidenha...   \n",
       "\n",
       "                                         cultivation           toxicity  id  \n",
       "0                                  No data available  No data available   0  \n",
       "1  Adenium obesum is a popular houseplant and bon...  No data available   1  \n",
       "2  Adiantum aethiopicum is a popular and well kno...  No data available   2  \n",
       "3  Adiantum capillus-veneris  is cultivated and w...  No data available   3  \n",
       "4                                  No data available  No data available   4  "
      ]
     },
     "execution_count": 33,
     "metadata": {},
     "output_type": "execute_result"
    }
   ],
   "source": [
    "df_all_plants_details.head()"
   ]
  },
  {
   "cell_type": "markdown",
   "id": "8ddbd6c1",
   "metadata": {},
   "source": [
    "## Save file"
   ]
  },
  {
   "cell_type": "code",
   "execution_count": 34,
   "id": "e62f6ecd",
   "metadata": {},
   "outputs": [],
   "source": [
    "# Changing column order\n",
    "df_all_plants_details[['id', 'name', 'summary', 'cultivation', 'toxicity']].to_csv(\"../data/plants_data.csv\", index=False)"
   ]
  },
  {
   "cell_type": "code",
   "execution_count": null,
   "id": "61b2faa3",
   "metadata": {},
   "outputs": [],
   "source": []
  }
 ],
 "metadata": {
  "kernelspec": {
   "display_name": "Python 3",
   "language": "python",
   "name": "python3"
  },
  "language_info": {
   "codemirror_mode": {
    "name": "ipython",
    "version": 3
   },
   "file_extension": ".py",
   "mimetype": "text/x-python",
   "name": "python",
   "nbconvert_exporter": "python",
   "pygments_lexer": "ipython3",
   "version": "3.12.1"
  }
 },
 "nbformat": 4,
 "nbformat_minor": 5
}
